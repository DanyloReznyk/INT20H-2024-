{
  "nbformat": 4,
  "nbformat_minor": 0,
  "metadata": {
    "colab": {
      "provenance": [],
      "gpuType": "T4"
    },
    "kernelspec": {
      "name": "python3",
      "display_name": "Python 3"
    },
    "language_info": {
      "name": "python"
    },
    "accelerator": "GPU"
  },
  "cells": [
    {
      "cell_type": "code",
      "source": [
        "from google.colab import drive # Import photos from Google Photos\n",
        "from PIL import Image\n",
        "\n",
        "import numpy as np\n",
        "from numpy import unique, where\n",
        "\n",
        "from matplotlib import pyplot as plt\n",
        "import cv2\n",
        "import os\n",
        "import dask.array as da\n",
        "from google_drive_downloader import GoogleDriveDownloader as gdd\n",
        "import tensorflow as tf\n",
        "from glob import glob\n",
        "import shutil\n",
        "\n",
        "\n",
        "from tensorflow import keras\n",
        "from tensorflow.keras.preprocessing.image import ImageDataGenerator\n",
        "from tensorflow.keras.layers import Input, Conv2D, Flatten, Dense, Conv2DTranspose, Reshape, Lambda, Activation, LeakyReLU\n",
        "from tensorflow.keras.losses import binary_crossentropy\n",
        "from tensorflow.keras.models import Model\n",
        "from tensorflow.keras import backend as K\n",
        "from tensorflow.keras.optimizers import Adam\n",
        "from tensorflow.keras.callbacks import ModelCheckpoint\n",
        "from keras.models import load_model\n",
        "from tensorflow.keras.layers import Conv2D, Activation, Input, Add, MaxPooling2D, Flatten, Dense, Dropout, BatchNormalization, Concatenate, Lambda, add, GlobalAveragePooling2D, Convolution2D, LocallyConnected2D, ZeroPadding2D, concatenate, AveragePooling2D\n",
        "from tensorflow.keras.models import Model, Sequential\n",
        "from tensorflow.keras import backend as K\n",
        "\n",
        "from sklearn.metrics.cluster import homogeneity_score, silhouette_score, calinski_harabasz_score, davies_bouldin_score\n",
        "\n",
        "from sklearn.model_selection import train_test_split\n",
        "from sklearn.cluster import KMeans, AgglomerativeClustering\n",
        "from sklearn.mixture import GaussianMixture\n",
        "\n",
        "\n",
        "\n",
        "drive.mount('/content/gdrive')"
      ],
      "metadata": {
        "colab": {
          "base_uri": "https://localhost:8080/"
        },
        "id": "HEA7c49KwxE9",
        "outputId": "97dc70bf-8fb1-4f91-ccc6-df3ccd516b1f"
      },
      "execution_count": null,
      "outputs": [
        {
          "output_type": "stream",
          "name": "stdout",
          "text": [
            "Drive already mounted at /content/gdrive; to attempt to forcibly remount, call drive.mount(\"/content/gdrive\", force_remount=True).\n"
          ]
        }
      ]
    },
    {
      "cell_type": "code",
      "source": [
        "gdd.download_file_from_google_drive(file_id='1DO5d7WG1-6ma5JLscttAKosYRBND7Z88',\n",
        "                                            dest_path='/content/gdrive/MyDrive/facenet_keras_weights.h5',\n",
        "                                            overwrite=True)\n",
        "\n",
        "gdd.download_file_from_google_drive(file_id='1aa4uGKSVzSEIJ4Q-Ht3crFO0TdT6fr6T',\n",
        "                                            dest_path='/content/gdrive/MyDrive/vae_best_model.h5',\n",
        "                                            overwrite=True)\n",
        "\n",
        "gdd.download_file_from_google_drive(file_id='1RBqU8WY8ayGgIwctX1nXtMjp0KLXuXeV',\n",
        "                                     dest_path='/content/gdrive/MyDrive/croppedImages-fulls.zip',\n",
        "                                      unzip = True,\n",
        "                                     overwrite=True)"
      ],
      "metadata": {
        "id": "Z3qbGXks8r2Y"
      },
      "execution_count": null,
      "outputs": []
    },
    {
      "cell_type": "code",
      "source": [
        "import tensorflow as tf\n",
        "from tensorflow.keras.layers import Conv2D, Activation, Input, Add, MaxPooling2D, Flatten, Dense, Dropout, BatchNormalization, Concatenate, Lambda, add, GlobalAveragePooling2D, Convolution2D, LocallyConnected2D, ZeroPadding2D, concatenate, AveragePooling2D\n",
        "from tensorflow.keras.models import Model, Sequential\n",
        "from tensorflow.keras import backend as K\n",
        "\n",
        "\n",
        "def scaling(x, scale):\n",
        "\treturn x * scale\n",
        "\n",
        "def InceptionResNetV2():\n",
        "\n",
        "\tinputs = Input(shape=(160, 160, 3))\n",
        "\tx = Conv2D(32, 3, strides=2, padding='valid', use_bias=False, name= 'Conv2d_1a_3x3') (inputs)\n",
        "\tx = BatchNormalization(axis=3, momentum=0.995, epsilon=0.001, scale=False, name='Conv2d_1a_3x3_BatchNorm')(x)\n",
        "\tx = Activation('relu', name='Conv2d_1a_3x3_Activation')(x)\n",
        "\tx = Conv2D(32, 3, strides=1, padding='valid', use_bias=False, name= 'Conv2d_2a_3x3') (x)\n",
        "\tx = BatchNormalization(axis=3, momentum=0.995, epsilon=0.001, scale=False, name='Conv2d_2a_3x3_BatchNorm')(x)\n",
        "\tx = Activation('relu', name='Conv2d_2a_3x3_Activation')(x)\n",
        "\tx = Conv2D(64, 3, strides=1, padding='same', use_bias=False, name= 'Conv2d_2b_3x3') (x)\n",
        "\tx = BatchNormalization(axis=3, momentum=0.995, epsilon=0.001, scale=False, name='Conv2d_2b_3x3_BatchNorm')(x)\n",
        "\tx = Activation('relu', name='Conv2d_2b_3x3_Activation')(x)\n",
        "\tx = MaxPooling2D(3, strides=2, name='MaxPool_3a_3x3')(x)\n",
        "\tx = Conv2D(80, 1, strides=1, padding='valid', use_bias=False, name= 'Conv2d_3b_1x1') (x)\n",
        "\tx = BatchNormalization(axis=3, momentum=0.995, epsilon=0.001, scale=False, name='Conv2d_3b_1x1_BatchNorm')(x)\n",
        "\tx = Activation('relu', name='Conv2d_3b_1x1_Activation')(x)\n",
        "\tx = Conv2D(192, 3, strides=1, padding='valid', use_bias=False, name= 'Conv2d_4a_3x3') (x)\n",
        "\tx = BatchNormalization(axis=3, momentum=0.995, epsilon=0.001, scale=False, name='Conv2d_4a_3x3_BatchNorm')(x)\n",
        "\tx = Activation('relu', name='Conv2d_4a_3x3_Activation')(x)\n",
        "\tx = Conv2D(256, 3, strides=2, padding='valid', use_bias=False, name= 'Conv2d_4b_3x3') (x)\n",
        "\tx = BatchNormalization(axis=3, momentum=0.995, epsilon=0.001, scale=False, name='Conv2d_4b_3x3_BatchNorm')(x)\n",
        "\tx = Activation('relu', name='Conv2d_4b_3x3_Activation')(x)\n",
        "\n",
        "\t# 5x Block35 (Inception-ResNet-A block):\n",
        "\tbranch_0 = Conv2D(32, 1, strides=1, padding='same', use_bias=False, name= 'Block35_1_Branch_0_Conv2d_1x1') (x)\n",
        "\tbranch_0 = BatchNormalization(axis=3, momentum=0.995, epsilon=0.001, scale=False, name='Block35_1_Branch_0_Conv2d_1x1_BatchNorm')(branch_0)\n",
        "\tbranch_0 = Activation('relu', name='Block35_1_Branch_0_Conv2d_1x1_Activation')(branch_0)\n",
        "\tbranch_1 = Conv2D(32, 1, strides=1, padding='same', use_bias=False, name= 'Block35_1_Branch_1_Conv2d_0a_1x1') (x)\n",
        "\tbranch_1 = BatchNormalization(axis=3, momentum=0.995, epsilon=0.001, scale=False, name='Block35_1_Branch_1_Conv2d_0a_1x1_BatchNorm')(branch_1)\n",
        "\tbranch_1 = Activation('relu', name='Block35_1_Branch_1_Conv2d_0a_1x1_Activation')(branch_1)\n",
        "\tbranch_1 = Conv2D(32, 3, strides=1, padding='same', use_bias=False, name= 'Block35_1_Branch_1_Conv2d_0b_3x3') (branch_1)\n",
        "\tbranch_1 = BatchNormalization(axis=3, momentum=0.995, epsilon=0.001, scale=False, name='Block35_1_Branch_1_Conv2d_0b_3x3_BatchNorm')(branch_1)\n",
        "\tbranch_1 = Activation('relu', name='Block35_1_Branch_1_Conv2d_0b_3x3_Activation')(branch_1)\n",
        "\tbranch_2 = Conv2D(32, 1, strides=1, padding='same', use_bias=False, name= 'Block35_1_Branch_2_Conv2d_0a_1x1') (x)\n",
        "\tbranch_2 = BatchNormalization(axis=3, momentum=0.995, epsilon=0.001, scale=False, name='Block35_1_Branch_2_Conv2d_0a_1x1_BatchNorm')(branch_2)\n",
        "\tbranch_2 = Activation('relu', name='Block35_1_Branch_2_Conv2d_0a_1x1_Activation')(branch_2)\n",
        "\tbranch_2 = Conv2D(32, 3, strides=1, padding='same', use_bias=False, name= 'Block35_1_Branch_2_Conv2d_0b_3x3') (branch_2)\n",
        "\tbranch_2 = BatchNormalization(axis=3, momentum=0.995, epsilon=0.001, scale=False, name='Block35_1_Branch_2_Conv2d_0b_3x3_BatchNorm')(branch_2)\n",
        "\tbranch_2 = Activation('relu', name='Block35_1_Branch_2_Conv2d_0b_3x3_Activation')(branch_2)\n",
        "\tbranch_2 = Conv2D(32, 3, strides=1, padding='same', use_bias=False, name= 'Block35_1_Branch_2_Conv2d_0c_3x3') (branch_2)\n",
        "\tbranch_2 = BatchNormalization(axis=3, momentum=0.995, epsilon=0.001, scale=False, name='Block35_1_Branch_2_Conv2d_0c_3x3_BatchNorm')(branch_2)\n",
        "\tbranch_2 = Activation('relu', name='Block35_1_Branch_2_Conv2d_0c_3x3_Activation')(branch_2)\n",
        "\tbranches = [branch_0, branch_1, branch_2]\n",
        "\tmixed = Concatenate(axis=3, name='Block35_1_Concatenate')(branches)\n",
        "\tup = Conv2D(256, 1, strides=1, padding='same', use_bias=True, name= 'Block35_1_Conv2d_1x1') (mixed)\n",
        "\tup = Lambda(scaling, output_shape=K.int_shape(up)[1:], arguments={'scale': 0.17})(up)\n",
        "\tx = add([x, up])\n",
        "\tx = Activation('relu', name='Block35_1_Activation')(x)\n",
        "\n",
        "\tbranch_0 = Conv2D(32, 1, strides=1, padding='same', use_bias=False, name= 'Block35_2_Branch_0_Conv2d_1x1') (x)\n",
        "\tbranch_0 = BatchNormalization(axis=3, momentum=0.995, epsilon=0.001, scale=False, name='Block35_2_Branch_0_Conv2d_1x1_BatchNorm')(branch_0)\n",
        "\tbranch_0 = Activation('relu', name='Block35_2_Branch_0_Conv2d_1x1_Activation')(branch_0)\n",
        "\tbranch_1 = Conv2D(32, 1, strides=1, padding='same', use_bias=False, name= 'Block35_2_Branch_1_Conv2d_0a_1x1') (x)\n",
        "\tbranch_1 = BatchNormalization(axis=3, momentum=0.995, epsilon=0.001, scale=False, name='Block35_2_Branch_1_Conv2d_0a_1x1_BatchNorm')(branch_1)\n",
        "\tbranch_1 = Activation('relu', name='Block35_2_Branch_1_Conv2d_0a_1x1_Activation')(branch_1)\n",
        "\tbranch_1 = Conv2D(32, 3, strides=1, padding='same', use_bias=False, name= 'Block35_2_Branch_1_Conv2d_0b_3x3') (branch_1)\n",
        "\tbranch_1 = BatchNormalization(axis=3, momentum=0.995, epsilon=0.001, scale=False, name='Block35_2_Branch_1_Conv2d_0b_3x3_BatchNorm')(branch_1)\n",
        "\tbranch_1 = Activation('relu', name='Block35_2_Branch_1_Conv2d_0b_3x3_Activation')(branch_1)\n",
        "\tbranch_2 = Conv2D(32, 1, strides=1, padding='same', use_bias=False, name= 'Block35_2_Branch_2_Conv2d_0a_1x1') (x)\n",
        "\tbranch_2 = BatchNormalization(axis=3, momentum=0.995, epsilon=0.001, scale=False, name='Block35_2_Branch_2_Conv2d_0a_1x1_BatchNorm')(branch_2)\n",
        "\tbranch_2 = Activation('relu', name='Block35_2_Branch_2_Conv2d_0a_1x1_Activation')(branch_2)\n",
        "\tbranch_2 = Conv2D(32, 3, strides=1, padding='same', use_bias=False, name= 'Block35_2_Branch_2_Conv2d_0b_3x3') (branch_2)\n",
        "\tbranch_2 = BatchNormalization(axis=3, momentum=0.995, epsilon=0.001, scale=False, name='Block35_2_Branch_2_Conv2d_0b_3x3_BatchNorm')(branch_2)\n",
        "\tbranch_2 = Activation('relu', name='Block35_2_Branch_2_Conv2d_0b_3x3_Activation')(branch_2)\n",
        "\tbranch_2 = Conv2D(32, 3, strides=1, padding='same', use_bias=False, name= 'Block35_2_Branch_2_Conv2d_0c_3x3') (branch_2)\n",
        "\tbranch_2 = BatchNormalization(axis=3, momentum=0.995, epsilon=0.001, scale=False, name='Block35_2_Branch_2_Conv2d_0c_3x3_BatchNorm')(branch_2)\n",
        "\tbranch_2 = Activation('relu', name='Block35_2_Branch_2_Conv2d_0c_3x3_Activation')(branch_2)\n",
        "\tbranches = [branch_0, branch_1, branch_2]\n",
        "\tmixed = Concatenate(axis=3, name='Block35_2_Concatenate')(branches)\n",
        "\tup = Conv2D(256, 1, strides=1, padding='same', use_bias=True, name= 'Block35_2_Conv2d_1x1') (mixed)\n",
        "\tup = Lambda(scaling, output_shape=K.int_shape(up)[1:], arguments={'scale': 0.17})(up)\n",
        "\tx = add([x, up])\n",
        "\tx = Activation('relu', name='Block35_2_Activation')(x)\n",
        "\n",
        "\tbranch_0 = Conv2D(32, 1, strides=1, padding='same', use_bias=False, name= 'Block35_3_Branch_0_Conv2d_1x1') (x)\n",
        "\tbranch_0 = BatchNormalization(axis=3, momentum=0.995, epsilon=0.001, scale=False, name='Block35_3_Branch_0_Conv2d_1x1_BatchNorm')(branch_0)\n",
        "\tbranch_0 = Activation('relu', name='Block35_3_Branch_0_Conv2d_1x1_Activation')(branch_0)\n",
        "\tbranch_1 = Conv2D(32, 1, strides=1, padding='same', use_bias=False, name= 'Block35_3_Branch_1_Conv2d_0a_1x1') (x)\n",
        "\tbranch_1 = BatchNormalization(axis=3, momentum=0.995, epsilon=0.001, scale=False, name='Block35_3_Branch_1_Conv2d_0a_1x1_BatchNorm')(branch_1)\n",
        "\tbranch_1 = Activation('relu', name='Block35_3_Branch_1_Conv2d_0a_1x1_Activation')(branch_1)\n",
        "\tbranch_1 = Conv2D(32, 3, strides=1, padding='same', use_bias=False, name= 'Block35_3_Branch_1_Conv2d_0b_3x3') (branch_1)\n",
        "\tbranch_1 = BatchNormalization(axis=3, momentum=0.995, epsilon=0.001, scale=False, name='Block35_3_Branch_1_Conv2d_0b_3x3_BatchNorm')(branch_1)\n",
        "\tbranch_1 = Activation('relu', name='Block35_3_Branch_1_Conv2d_0b_3x3_Activation')(branch_1)\n",
        "\tbranch_2 = Conv2D(32, 1, strides=1, padding='same', use_bias=False, name= 'Block35_3_Branch_2_Conv2d_0a_1x1') (x)\n",
        "\tbranch_2 = BatchNormalization(axis=3, momentum=0.995, epsilon=0.001, scale=False, name='Block35_3_Branch_2_Conv2d_0a_1x1_BatchNorm')(branch_2)\n",
        "\tbranch_2 = Activation('relu', name='Block35_3_Branch_2_Conv2d_0a_1x1_Activation')(branch_2)\n",
        "\tbranch_2 = Conv2D(32, 3, strides=1, padding='same', use_bias=False, name= 'Block35_3_Branch_2_Conv2d_0b_3x3') (branch_2)\n",
        "\tbranch_2 = BatchNormalization(axis=3, momentum=0.995, epsilon=0.001, scale=False, name='Block35_3_Branch_2_Conv2d_0b_3x3_BatchNorm')(branch_2)\n",
        "\tbranch_2 = Activation('relu', name='Block35_3_Branch_2_Conv2d_0b_3x3_Activation')(branch_2)\n",
        "\tbranch_2 = Conv2D(32, 3, strides=1, padding='same', use_bias=False, name= 'Block35_3_Branch_2_Conv2d_0c_3x3') (branch_2)\n",
        "\tbranch_2 = BatchNormalization(axis=3, momentum=0.995, epsilon=0.001, scale=False, name='Block35_3_Branch_2_Conv2d_0c_3x3_BatchNorm')(branch_2)\n",
        "\tbranch_2 = Activation('relu', name='Block35_3_Branch_2_Conv2d_0c_3x3_Activation')(branch_2)\n",
        "\tbranches = [branch_0, branch_1, branch_2]\n",
        "\tmixed = Concatenate(axis=3, name='Block35_3_Concatenate')(branches)\n",
        "\tup = Conv2D(256, 1, strides=1, padding='same', use_bias=True, name= 'Block35_3_Conv2d_1x1') (mixed)\n",
        "\tup = Lambda(scaling, output_shape=K.int_shape(up)[1:], arguments={'scale': 0.17})(up)\n",
        "\tx = add([x, up])\n",
        "\tx = Activation('relu', name='Block35_3_Activation')(x)\n",
        "\n",
        "\tbranch_0 = Conv2D(32, 1, strides=1, padding='same', use_bias=False, name= 'Block35_4_Branch_0_Conv2d_1x1') (x)\n",
        "\tbranch_0 = BatchNormalization(axis=3, momentum=0.995, epsilon=0.001, scale=False, name='Block35_4_Branch_0_Conv2d_1x1_BatchNorm')(branch_0)\n",
        "\tbranch_0 = Activation('relu', name='Block35_4_Branch_0_Conv2d_1x1_Activation')(branch_0)\n",
        "\tbranch_1 = Conv2D(32, 1, strides=1, padding='same', use_bias=False, name= 'Block35_4_Branch_1_Conv2d_0a_1x1') (x)\n",
        "\tbranch_1 = BatchNormalization(axis=3, momentum=0.995, epsilon=0.001, scale=False, name='Block35_4_Branch_1_Conv2d_0a_1x1_BatchNorm')(branch_1)\n",
        "\tbranch_1 = Activation('relu', name='Block35_4_Branch_1_Conv2d_0a_1x1_Activation')(branch_1)\n",
        "\tbranch_1 = Conv2D(32, 3, strides=1, padding='same', use_bias=False, name= 'Block35_4_Branch_1_Conv2d_0b_3x3') (branch_1)\n",
        "\tbranch_1 = BatchNormalization(axis=3, momentum=0.995, epsilon=0.001, scale=False, name='Block35_4_Branch_1_Conv2d_0b_3x3_BatchNorm')(branch_1)\n",
        "\tbranch_1 = Activation('relu', name='Block35_4_Branch_1_Conv2d_0b_3x3_Activation')(branch_1)\n",
        "\tbranch_2 = Conv2D(32, 1, strides=1, padding='same', use_bias=False, name= 'Block35_4_Branch_2_Conv2d_0a_1x1') (x)\n",
        "\tbranch_2 = BatchNormalization(axis=3, momentum=0.995, epsilon=0.001, scale=False, name='Block35_4_Branch_2_Conv2d_0a_1x1_BatchNorm')(branch_2)\n",
        "\tbranch_2 = Activation('relu', name='Block35_4_Branch_2_Conv2d_0a_1x1_Activation')(branch_2)\n",
        "\tbranch_2 = Conv2D(32, 3, strides=1, padding='same', use_bias=False, name= 'Block35_4_Branch_2_Conv2d_0b_3x3') (branch_2)\n",
        "\tbranch_2 = BatchNormalization(axis=3, momentum=0.995, epsilon=0.001, scale=False, name='Block35_4_Branch_2_Conv2d_0b_3x3_BatchNorm')(branch_2)\n",
        "\tbranch_2 = Activation('relu', name='Block35_4_Branch_2_Conv2d_0b_3x3_Activation')(branch_2)\n",
        "\tbranch_2 = Conv2D(32, 3, strides=1, padding='same', use_bias=False, name= 'Block35_4_Branch_2_Conv2d_0c_3x3') (branch_2)\n",
        "\tbranch_2 = BatchNormalization(axis=3, momentum=0.995, epsilon=0.001, scale=False, name='Block35_4_Branch_2_Conv2d_0c_3x3_BatchNorm')(branch_2)\n",
        "\tbranch_2 = Activation('relu', name='Block35_4_Branch_2_Conv2d_0c_3x3_Activation')(branch_2)\n",
        "\tbranches = [branch_0, branch_1, branch_2]\n",
        "\tmixed = Concatenate(axis=3, name='Block35_4_Concatenate')(branches)\n",
        "\tup = Conv2D(256, 1, strides=1, padding='same', use_bias=True, name= 'Block35_4_Conv2d_1x1') (mixed)\n",
        "\tup = Lambda(scaling, output_shape=K.int_shape(up)[1:], arguments={'scale': 0.17})(up)\n",
        "\tx = add([x, up])\n",
        "\tx = Activation('relu', name='Block35_4_Activation')(x)\n",
        "\n",
        "\tbranch_0 = Conv2D(32, 1, strides=1, padding='same', use_bias=False, name= 'Block35_5_Branch_0_Conv2d_1x1') (x)\n",
        "\tbranch_0 = BatchNormalization(axis=3, momentum=0.995, epsilon=0.001, scale=False, name='Block35_5_Branch_0_Conv2d_1x1_BatchNorm')(branch_0)\n",
        "\tbranch_0 = Activation('relu', name='Block35_5_Branch_0_Conv2d_1x1_Activation')(branch_0)\n",
        "\tbranch_1 = Conv2D(32, 1, strides=1, padding='same', use_bias=False, name= 'Block35_5_Branch_1_Conv2d_0a_1x1') (x)\n",
        "\tbranch_1 = BatchNormalization(axis=3, momentum=0.995, epsilon=0.001, scale=False, name='Block35_5_Branch_1_Conv2d_0a_1x1_BatchNorm')(branch_1)\n",
        "\tbranch_1 = Activation('relu', name='Block35_5_Branch_1_Conv2d_0a_1x1_Activation')(branch_1)\n",
        "\tbranch_1 = Conv2D(32, 3, strides=1, padding='same', use_bias=False, name= 'Block35_5_Branch_1_Conv2d_0b_3x3') (branch_1)\n",
        "\tbranch_1 = BatchNormalization(axis=3, momentum=0.995, epsilon=0.001, scale=False, name='Block35_5_Branch_1_Conv2d_0b_3x3_BatchNorm')(branch_1)\n",
        "\tbranch_1 = Activation('relu', name='Block35_5_Branch_1_Conv2d_0b_3x3_Activation')(branch_1)\n",
        "\tbranch_2 = Conv2D(32, 1, strides=1, padding='same', use_bias=False, name= 'Block35_5_Branch_2_Conv2d_0a_1x1') (x)\n",
        "\tbranch_2 = BatchNormalization(axis=3, momentum=0.995, epsilon=0.001, scale=False, name='Block35_5_Branch_2_Conv2d_0a_1x1_BatchNorm')(branch_2)\n",
        "\tbranch_2 = Activation('relu', name='Block35_5_Branch_2_Conv2d_0a_1x1_Activation')(branch_2)\n",
        "\tbranch_2 = Conv2D(32, 3, strides=1, padding='same', use_bias=False, name= 'Block35_5_Branch_2_Conv2d_0b_3x3') (branch_2)\n",
        "\tbranch_2 = BatchNormalization(axis=3, momentum=0.995, epsilon=0.001, scale=False, name='Block35_5_Branch_2_Conv2d_0b_3x3_BatchNorm')(branch_2)\n",
        "\tbranch_2 = Activation('relu', name='Block35_5_Branch_2_Conv2d_0b_3x3_Activation')(branch_2)\n",
        "\tbranch_2 = Conv2D(32, 3, strides=1, padding='same', use_bias=False, name= 'Block35_5_Branch_2_Conv2d_0c_3x3') (branch_2)\n",
        "\tbranch_2 = BatchNormalization(axis=3, momentum=0.995, epsilon=0.001, scale=False, name='Block35_5_Branch_2_Conv2d_0c_3x3_BatchNorm')(branch_2)\n",
        "\tbranch_2 = Activation('relu', name='Block35_5_Branch_2_Conv2d_0c_3x3_Activation')(branch_2)\n",
        "\tbranches = [branch_0, branch_1, branch_2]\n",
        "\tmixed = Concatenate(axis=3, name='Block35_5_Concatenate')(branches)\n",
        "\tup = Conv2D(256, 1, strides=1, padding='same', use_bias=True, name= 'Block35_5_Conv2d_1x1') (mixed)\n",
        "\tup = Lambda(scaling, output_shape=K.int_shape(up)[1:], arguments={'scale': 0.17})(up)\n",
        "\tx = add([x, up])\n",
        "\tx = Activation('relu', name='Block35_5_Activation')(x)\n",
        "\n",
        "\t# Mixed 6a (Reduction-A block):\n",
        "\tbranch_0 = Conv2D(384, 3, strides=2, padding='valid', use_bias=False, name= 'Mixed_6a_Branch_0_Conv2d_1a_3x3') (x)\n",
        "\tbranch_0 = BatchNormalization(axis=3, momentum=0.995, epsilon=0.001, scale=False, name='Mixed_6a_Branch_0_Conv2d_1a_3x3_BatchNorm')(branch_0)\n",
        "\tbranch_0 = Activation('relu', name='Mixed_6a_Branch_0_Conv2d_1a_3x3_Activation')(branch_0)\n",
        "\tbranch_1 = Conv2D(192, 1, strides=1, padding='same', use_bias=False, name= 'Mixed_6a_Branch_1_Conv2d_0a_1x1') (x)\n",
        "\tbranch_1 = BatchNormalization(axis=3, momentum=0.995, epsilon=0.001, scale=False, name='Mixed_6a_Branch_1_Conv2d_0a_1x1_BatchNorm')(branch_1)\n",
        "\tbranch_1 = Activation('relu', name='Mixed_6a_Branch_1_Conv2d_0a_1x1_Activation')(branch_1)\n",
        "\tbranch_1 = Conv2D(192, 3, strides=1, padding='same', use_bias=False, name= 'Mixed_6a_Branch_1_Conv2d_0b_3x3') (branch_1)\n",
        "\tbranch_1 = BatchNormalization(axis=3, momentum=0.995, epsilon=0.001, scale=False, name='Mixed_6a_Branch_1_Conv2d_0b_3x3_BatchNorm')(branch_1)\n",
        "\tbranch_1 = Activation('relu', name='Mixed_6a_Branch_1_Conv2d_0b_3x3_Activation')(branch_1)\n",
        "\tbranch_1 = Conv2D(256, 3, strides=2, padding='valid', use_bias=False, name= 'Mixed_6a_Branch_1_Conv2d_1a_3x3') (branch_1)\n",
        "\tbranch_1 = BatchNormalization(axis=3, momentum=0.995, epsilon=0.001, scale=False, name='Mixed_6a_Branch_1_Conv2d_1a_3x3_BatchNorm')(branch_1)\n",
        "\tbranch_1 = Activation('relu', name='Mixed_6a_Branch_1_Conv2d_1a_3x3_Activation')(branch_1)\n",
        "\tbranch_pool = MaxPooling2D(3, strides=2, padding='valid', name='Mixed_6a_Branch_2_MaxPool_1a_3x3')(x)\n",
        "\tbranches = [branch_0, branch_1, branch_pool]\n",
        "\tx = Concatenate(axis=3, name='Mixed_6a')(branches)\n",
        "\n",
        "\t# 10x Block17 (Inception-ResNet-B block):\n",
        "\tbranch_0 = Conv2D(128, 1, strides=1, padding='same', use_bias=False, name= 'Block17_1_Branch_0_Conv2d_1x1') (x)\n",
        "\tbranch_0 = BatchNormalization(axis=3, momentum=0.995, epsilon=0.001, scale=False, name='Block17_1_Branch_0_Conv2d_1x1_BatchNorm')(branch_0)\n",
        "\tbranch_0 = Activation('relu', name='Block17_1_Branch_0_Conv2d_1x1_Activation')(branch_0)\n",
        "\tbranch_1 = Conv2D(128, 1, strides=1, padding='same', use_bias=False, name= 'Block17_1_Branch_1_Conv2d_0a_1x1') (x)\n",
        "\tbranch_1 = BatchNormalization(axis=3, momentum=0.995, epsilon=0.001, scale=False, name='Block17_1_Branch_1_Conv2d_0a_1x1_BatchNorm')(branch_1)\n",
        "\tbranch_1 = Activation('relu', name='Block17_1_Branch_1_Conv2d_0a_1x1_Activation')(branch_1)\n",
        "\tbranch_1 = Conv2D(128, [1, 7], strides=1, padding='same', use_bias=False, name= 'Block17_1_Branch_1_Conv2d_0b_1x7') (branch_1)\n",
        "\tbranch_1 = BatchNormalization(axis=3, momentum=0.995, epsilon=0.001, scale=False, name='Block17_1_Branch_1_Conv2d_0b_1x7_BatchNorm')(branch_1)\n",
        "\tbranch_1 = Activation('relu', name='Block17_1_Branch_1_Conv2d_0b_1x7_Activation')(branch_1)\n",
        "\tbranch_1 = Conv2D(128, [7, 1], strides=1, padding='same', use_bias=False, name= 'Block17_1_Branch_1_Conv2d_0c_7x1') (branch_1)\n",
        "\tbranch_1 = BatchNormalization(axis=3, momentum=0.995, epsilon=0.001, scale=False, name='Block17_1_Branch_1_Conv2d_0c_7x1_BatchNorm')(branch_1)\n",
        "\tbranch_1 = Activation('relu', name='Block17_1_Branch_1_Conv2d_0c_7x1_Activation')(branch_1)\n",
        "\tbranches = [branch_0, branch_1]\n",
        "\tmixed = Concatenate(axis=3, name='Block17_1_Concatenate')(branches)\n",
        "\tup = Conv2D(896, 1, strides=1, padding='same', use_bias=True, name= 'Block17_1_Conv2d_1x1') (mixed)\n",
        "\tup = Lambda(scaling, output_shape=K.int_shape(up)[1:], arguments={'scale': 0.1})(up)\n",
        "\tx = add([x, up])\n",
        "\tx = Activation('relu', name='Block17_1_Activation')(x)\n",
        "\n",
        "\tbranch_0 = Conv2D(128, 1, strides=1, padding='same', use_bias=False, name= 'Block17_2_Branch_0_Conv2d_1x1') (x)\n",
        "\tbranch_0 = BatchNormalization(axis=3, momentum=0.995, epsilon=0.001, scale=False, name='Block17_2_Branch_0_Conv2d_1x1_BatchNorm')(branch_0)\n",
        "\tbranch_0 = Activation('relu', name='Block17_2_Branch_0_Conv2d_1x1_Activation')(branch_0)\n",
        "\tbranch_1 = Conv2D(128, 1, strides=1, padding='same', use_bias=False, name= 'Block17_2_Branch_2_Conv2d_0a_1x1') (x)\n",
        "\tbranch_1 = BatchNormalization(axis=3, momentum=0.995, epsilon=0.001, scale=False, name='Block17_2_Branch_2_Conv2d_0a_1x1_BatchNorm')(branch_1)\n",
        "\tbranch_1 = Activation('relu', name='Block17_2_Branch_2_Conv2d_0a_1x1_Activation')(branch_1)\n",
        "\tbranch_1 = Conv2D(128, [1, 7], strides=1, padding='same', use_bias=False, name= 'Block17_2_Branch_2_Conv2d_0b_1x7') (branch_1)\n",
        "\tbranch_1 = BatchNormalization(axis=3, momentum=0.995, epsilon=0.001, scale=False, name='Block17_2_Branch_2_Conv2d_0b_1x7_BatchNorm')(branch_1)\n",
        "\tbranch_1 = Activation('relu', name='Block17_2_Branch_2_Conv2d_0b_1x7_Activation')(branch_1)\n",
        "\tbranch_1 = Conv2D(128, [7, 1], strides=1, padding='same', use_bias=False, name= 'Block17_2_Branch_2_Conv2d_0c_7x1') (branch_1)\n",
        "\tbranch_1 = BatchNormalization(axis=3, momentum=0.995, epsilon=0.001, scale=False, name='Block17_2_Branch_2_Conv2d_0c_7x1_BatchNorm')(branch_1)\n",
        "\tbranch_1 = Activation('relu', name='Block17_2_Branch_2_Conv2d_0c_7x1_Activation')(branch_1)\n",
        "\tbranches = [branch_0, branch_1]\n",
        "\tmixed = Concatenate(axis=3, name='Block17_2_Concatenate')(branches)\n",
        "\tup = Conv2D(896, 1, strides=1, padding='same', use_bias=True, name= 'Block17_2_Conv2d_1x1') (mixed)\n",
        "\tup = Lambda(scaling, output_shape=K.int_shape(up)[1:], arguments={'scale': 0.1})(up)\n",
        "\tx = add([x, up])\n",
        "\tx = Activation('relu', name='Block17_2_Activation')(x)\n",
        "\n",
        "\tbranch_0 = Conv2D(128, 1, strides=1, padding='same', use_bias=False, name= 'Block17_3_Branch_0_Conv2d_1x1') (x)\n",
        "\tbranch_0 = BatchNormalization(axis=3, momentum=0.995, epsilon=0.001, scale=False, name='Block17_3_Branch_0_Conv2d_1x1_BatchNorm')(branch_0)\n",
        "\tbranch_0 = Activation('relu', name='Block17_3_Branch_0_Conv2d_1x1_Activation')(branch_0)\n",
        "\tbranch_1 = Conv2D(128, 1, strides=1, padding='same', use_bias=False, name= 'Block17_3_Branch_3_Conv2d_0a_1x1') (x)\n",
        "\tbranch_1 = BatchNormalization(axis=3, momentum=0.995, epsilon=0.001, scale=False, name='Block17_3_Branch_3_Conv2d_0a_1x1_BatchNorm')(branch_1)\n",
        "\tbranch_1 = Activation('relu', name='Block17_3_Branch_3_Conv2d_0a_1x1_Activation')(branch_1)\n",
        "\tbranch_1 = Conv2D(128, [1, 7], strides=1, padding='same', use_bias=False, name= 'Block17_3_Branch_3_Conv2d_0b_1x7') (branch_1)\n",
        "\tbranch_1 = BatchNormalization(axis=3, momentum=0.995, epsilon=0.001, scale=False, name='Block17_3_Branch_3_Conv2d_0b_1x7_BatchNorm')(branch_1)\n",
        "\tbranch_1 = Activation('relu', name='Block17_3_Branch_3_Conv2d_0b_1x7_Activation')(branch_1)\n",
        "\tbranch_1 = Conv2D(128, [7, 1], strides=1, padding='same', use_bias=False, name= 'Block17_3_Branch_3_Conv2d_0c_7x1') (branch_1)\n",
        "\tbranch_1 = BatchNormalization(axis=3, momentum=0.995, epsilon=0.001, scale=False, name='Block17_3_Branch_3_Conv2d_0c_7x1_BatchNorm')(branch_1)\n",
        "\tbranch_1 = Activation('relu', name='Block17_3_Branch_3_Conv2d_0c_7x1_Activation')(branch_1)\n",
        "\tbranches = [branch_0, branch_1]\n",
        "\tmixed = Concatenate(axis=3, name='Block17_3_Concatenate')(branches)\n",
        "\tup = Conv2D(896, 1, strides=1, padding='same', use_bias=True, name= 'Block17_3_Conv2d_1x1') (mixed)\n",
        "\tup = Lambda(scaling, output_shape=K.int_shape(up)[1:], arguments={'scale': 0.1})(up)\n",
        "\tx = add([x, up])\n",
        "\tx = Activation('relu', name='Block17_3_Activation')(x)\n",
        "\n",
        "\tbranch_0 = Conv2D(128, 1, strides=1, padding='same', use_bias=False, name= 'Block17_4_Branch_0_Conv2d_1x1') (x)\n",
        "\tbranch_0 = BatchNormalization(axis=3, momentum=0.995, epsilon=0.001, scale=False, name='Block17_4_Branch_0_Conv2d_1x1_BatchNorm')(branch_0)\n",
        "\tbranch_0 = Activation('relu', name='Block17_4_Branch_0_Conv2d_1x1_Activation')(branch_0)\n",
        "\tbranch_1 = Conv2D(128, 1, strides=1, padding='same', use_bias=False, name= 'Block17_4_Branch_4_Conv2d_0a_1x1') (x)\n",
        "\tbranch_1 = BatchNormalization(axis=3, momentum=0.995, epsilon=0.001, scale=False, name='Block17_4_Branch_4_Conv2d_0a_1x1_BatchNorm')(branch_1)\n",
        "\tbranch_1 = Activation('relu', name='Block17_4_Branch_4_Conv2d_0a_1x1_Activation')(branch_1)\n",
        "\tbranch_1 = Conv2D(128, [1, 7], strides=1, padding='same', use_bias=False, name= 'Block17_4_Branch_4_Conv2d_0b_1x7') (branch_1)\n",
        "\tbranch_1 = BatchNormalization(axis=3, momentum=0.995, epsilon=0.001, scale=False, name='Block17_4_Branch_4_Conv2d_0b_1x7_BatchNorm')(branch_1)\n",
        "\tbranch_1 = Activation('relu', name='Block17_4_Branch_4_Conv2d_0b_1x7_Activation')(branch_1)\n",
        "\tbranch_1 = Conv2D(128, [7, 1], strides=1, padding='same', use_bias=False, name= 'Block17_4_Branch_4_Conv2d_0c_7x1') (branch_1)\n",
        "\tbranch_1 = BatchNormalization(axis=3, momentum=0.995, epsilon=0.001, scale=False, name='Block17_4_Branch_4_Conv2d_0c_7x1_BatchNorm')(branch_1)\n",
        "\tbranch_1 = Activation('relu', name='Block17_4_Branch_4_Conv2d_0c_7x1_Activation')(branch_1)\n",
        "\tbranches = [branch_0, branch_1]\n",
        "\tmixed = Concatenate(axis=3, name='Block17_4_Concatenate')(branches)\n",
        "\tup = Conv2D(896, 1, strides=1, padding='same', use_bias=True, name= 'Block17_4_Conv2d_1x1') (mixed)\n",
        "\tup = Lambda(scaling, output_shape=K.int_shape(up)[1:], arguments={'scale': 0.1})(up)\n",
        "\tx = add([x, up])\n",
        "\tx = Activation('relu', name='Block17_4_Activation')(x)\n",
        "\n",
        "\tbranch_0 = Conv2D(128, 1, strides=1, padding='same', use_bias=False, name= 'Block17_5_Branch_0_Conv2d_1x1') (x)\n",
        "\tbranch_0 = BatchNormalization(axis=3, momentum=0.995, epsilon=0.001, scale=False, name='Block17_5_Branch_0_Conv2d_1x1_BatchNorm')(branch_0)\n",
        "\tbranch_0 = Activation('relu', name='Block17_5_Branch_0_Conv2d_1x1_Activation')(branch_0)\n",
        "\tbranch_1 = Conv2D(128, 1, strides=1, padding='same', use_bias=False, name= 'Block17_5_Branch_5_Conv2d_0a_1x1') (x)\n",
        "\tbranch_1 = BatchNormalization(axis=3, momentum=0.995, epsilon=0.001, scale=False, name='Block17_5_Branch_5_Conv2d_0a_1x1_BatchNorm')(branch_1)\n",
        "\tbranch_1 = Activation('relu', name='Block17_5_Branch_5_Conv2d_0a_1x1_Activation')(branch_1)\n",
        "\tbranch_1 = Conv2D(128, [1, 7], strides=1, padding='same', use_bias=False, name= 'Block17_5_Branch_5_Conv2d_0b_1x7') (branch_1)\n",
        "\tbranch_1 = BatchNormalization(axis=3, momentum=0.995, epsilon=0.001, scale=False, name='Block17_5_Branch_5_Conv2d_0b_1x7_BatchNorm')(branch_1)\n",
        "\tbranch_1 = Activation('relu', name='Block17_5_Branch_5_Conv2d_0b_1x7_Activation')(branch_1)\n",
        "\tbranch_1 = Conv2D(128, [7, 1], strides=1, padding='same', use_bias=False, name= 'Block17_5_Branch_5_Conv2d_0c_7x1') (branch_1)\n",
        "\tbranch_1 = BatchNormalization(axis=3, momentum=0.995, epsilon=0.001, scale=False, name='Block17_5_Branch_5_Conv2d_0c_7x1_BatchNorm')(branch_1)\n",
        "\tbranch_1 = Activation('relu', name='Block17_5_Branch_5_Conv2d_0c_7x1_Activation')(branch_1)\n",
        "\tbranches = [branch_0, branch_1]\n",
        "\tmixed = Concatenate(axis=3, name='Block17_5_Concatenate')(branches)\n",
        "\tup = Conv2D(896, 1, strides=1, padding='same', use_bias=True, name= 'Block17_5_Conv2d_1x1') (mixed)\n",
        "\tup = Lambda(scaling, output_shape=K.int_shape(up)[1:], arguments={'scale': 0.1})(up)\n",
        "\tx = add([x, up])\n",
        "\tx = Activation('relu', name='Block17_5_Activation')(x)\n",
        "\n",
        "\tbranch_0 = Conv2D(128, 1, strides=1, padding='same', use_bias=False, name= 'Block17_6_Branch_0_Conv2d_1x1') (x)\n",
        "\tbranch_0 = BatchNormalization(axis=3, momentum=0.995, epsilon=0.001, scale=False, name='Block17_6_Branch_0_Conv2d_1x1_BatchNorm')(branch_0)\n",
        "\tbranch_0 = Activation('relu', name='Block17_6_Branch_0_Conv2d_1x1_Activation')(branch_0)\n",
        "\tbranch_1 = Conv2D(128, 1, strides=1, padding='same', use_bias=False, name= 'Block17_6_Branch_6_Conv2d_0a_1x1') (x)\n",
        "\tbranch_1 = BatchNormalization(axis=3, momentum=0.995, epsilon=0.001, scale=False, name='Block17_6_Branch_6_Conv2d_0a_1x1_BatchNorm')(branch_1)\n",
        "\tbranch_1 = Activation('relu', name='Block17_6_Branch_6_Conv2d_0a_1x1_Activation')(branch_1)\n",
        "\tbranch_1 = Conv2D(128, [1, 7], strides=1, padding='same', use_bias=False, name= 'Block17_6_Branch_6_Conv2d_0b_1x7') (branch_1)\n",
        "\tbranch_1 = BatchNormalization(axis=3, momentum=0.995, epsilon=0.001, scale=False, name='Block17_6_Branch_6_Conv2d_0b_1x7_BatchNorm')(branch_1)\n",
        "\tbranch_1 = Activation('relu', name='Block17_6_Branch_6_Conv2d_0b_1x7_Activation')(branch_1)\n",
        "\tbranch_1 = Conv2D(128, [7, 1], strides=1, padding='same', use_bias=False, name= 'Block17_6_Branch_6_Conv2d_0c_7x1') (branch_1)\n",
        "\tbranch_1 = BatchNormalization(axis=3, momentum=0.995, epsilon=0.001, scale=False, name='Block17_6_Branch_6_Conv2d_0c_7x1_BatchNorm')(branch_1)\n",
        "\tbranch_1 = Activation('relu', name='Block17_6_Branch_6_Conv2d_0c_7x1_Activation')(branch_1)\n",
        "\tbranches = [branch_0, branch_1]\n",
        "\tmixed = Concatenate(axis=3, name='Block17_6_Concatenate')(branches)\n",
        "\tup = Conv2D(896, 1, strides=1, padding='same', use_bias=True, name= 'Block17_6_Conv2d_1x1') (mixed)\n",
        "\tup = Lambda(scaling, output_shape=K.int_shape(up)[1:], arguments={'scale': 0.1})(up)\n",
        "\tx = add([x, up])\n",
        "\tx = Activation('relu', name='Block17_6_Activation')(x)\n",
        "\n",
        "\tbranch_0 = Conv2D(128, 1, strides=1, padding='same', use_bias=False, name= 'Block17_7_Branch_0_Conv2d_1x1') (x)\n",
        "\tbranch_0 = BatchNormalization(axis=3, momentum=0.995, epsilon=0.001, scale=False, name='Block17_7_Branch_0_Conv2d_1x1_BatchNorm')(branch_0)\n",
        "\tbranch_0 = Activation('relu', name='Block17_7_Branch_0_Conv2d_1x1_Activation')(branch_0)\n",
        "\tbranch_1 = Conv2D(128, 1, strides=1, padding='same', use_bias=False, name= 'Block17_7_Branch_7_Conv2d_0a_1x1') (x)\n",
        "\tbranch_1 = BatchNormalization(axis=3, momentum=0.995, epsilon=0.001, scale=False, name='Block17_7_Branch_7_Conv2d_0a_1x1_BatchNorm')(branch_1)\n",
        "\tbranch_1 = Activation('relu', name='Block17_7_Branch_7_Conv2d_0a_1x1_Activation')(branch_1)\n",
        "\tbranch_1 = Conv2D(128, [1, 7], strides=1, padding='same', use_bias=False, name= 'Block17_7_Branch_7_Conv2d_0b_1x7') (branch_1)\n",
        "\tbranch_1 = BatchNormalization(axis=3, momentum=0.995, epsilon=0.001, scale=False, name='Block17_7_Branch_7_Conv2d_0b_1x7_BatchNorm')(branch_1)\n",
        "\tbranch_1 = Activation('relu', name='Block17_7_Branch_7_Conv2d_0b_1x7_Activation')(branch_1)\n",
        "\tbranch_1 = Conv2D(128, [7, 1], strides=1, padding='same', use_bias=False, name= 'Block17_7_Branch_7_Conv2d_0c_7x1') (branch_1)\n",
        "\tbranch_1 = BatchNormalization(axis=3, momentum=0.995, epsilon=0.001, scale=False, name='Block17_7_Branch_7_Conv2d_0c_7x1_BatchNorm')(branch_1)\n",
        "\tbranch_1 = Activation('relu', name='Block17_7_Branch_7_Conv2d_0c_7x1_Activation')(branch_1)\n",
        "\tbranches = [branch_0, branch_1]\n",
        "\tmixed = Concatenate(axis=3, name='Block17_7_Concatenate')(branches)\n",
        "\tup = Conv2D(896, 1, strides=1, padding='same', use_bias=True, name= 'Block17_7_Conv2d_1x1') (mixed)\n",
        "\tup = Lambda(scaling, output_shape=K.int_shape(up)[1:], arguments={'scale': 0.1})(up)\n",
        "\tx = add([x, up])\n",
        "\tx = Activation('relu', name='Block17_7_Activation')(x)\n",
        "\n",
        "\tbranch_0 = Conv2D(128, 1, strides=1, padding='same', use_bias=False, name= 'Block17_8_Branch_0_Conv2d_1x1') (x)\n",
        "\tbranch_0 = BatchNormalization(axis=3, momentum=0.995, epsilon=0.001, scale=False, name='Block17_8_Branch_0_Conv2d_1x1_BatchNorm')(branch_0)\n",
        "\tbranch_0 = Activation('relu', name='Block17_8_Branch_0_Conv2d_1x1_Activation')(branch_0)\n",
        "\tbranch_1 = Conv2D(128, 1, strides=1, padding='same', use_bias=False, name= 'Block17_8_Branch_8_Conv2d_0a_1x1') (x)\n",
        "\tbranch_1 = BatchNormalization(axis=3, momentum=0.995, epsilon=0.001, scale=False, name='Block17_8_Branch_8_Conv2d_0a_1x1_BatchNorm')(branch_1)\n",
        "\tbranch_1 = Activation('relu', name='Block17_8_Branch_8_Conv2d_0a_1x1_Activation')(branch_1)\n",
        "\tbranch_1 = Conv2D(128, [1, 7], strides=1, padding='same', use_bias=False, name= 'Block17_8_Branch_8_Conv2d_0b_1x7') (branch_1)\n",
        "\tbranch_1 = BatchNormalization(axis=3, momentum=0.995, epsilon=0.001, scale=False, name='Block17_8_Branch_8_Conv2d_0b_1x7_BatchNorm')(branch_1)\n",
        "\tbranch_1 = Activation('relu', name='Block17_8_Branch_8_Conv2d_0b_1x7_Activation')(branch_1)\n",
        "\tbranch_1 = Conv2D(128, [7, 1], strides=1, padding='same', use_bias=False, name= 'Block17_8_Branch_8_Conv2d_0c_7x1') (branch_1)\n",
        "\tbranch_1 = BatchNormalization(axis=3, momentum=0.995, epsilon=0.001, scale=False, name='Block17_8_Branch_8_Conv2d_0c_7x1_BatchNorm')(branch_1)\n",
        "\tbranch_1 = Activation('relu', name='Block17_8_Branch_8_Conv2d_0c_7x1_Activation')(branch_1)\n",
        "\tbranches = [branch_0, branch_1]\n",
        "\tmixed = Concatenate(axis=3, name='Block17_8_Concatenate')(branches)\n",
        "\tup = Conv2D(896, 1, strides=1, padding='same', use_bias=True, name= 'Block17_8_Conv2d_1x1') (mixed)\n",
        "\tup = Lambda(scaling, output_shape=K.int_shape(up)[1:], arguments={'scale': 0.1})(up)\n",
        "\tx = add([x, up])\n",
        "\tx = Activation('relu', name='Block17_8_Activation')(x)\n",
        "\n",
        "\tbranch_0 = Conv2D(128, 1, strides=1, padding='same', use_bias=False, name= 'Block17_9_Branch_0_Conv2d_1x1') (x)\n",
        "\tbranch_0 = BatchNormalization(axis=3, momentum=0.995, epsilon=0.001, scale=False, name='Block17_9_Branch_0_Conv2d_1x1_BatchNorm')(branch_0)\n",
        "\tbranch_0 = Activation('relu', name='Block17_9_Branch_0_Conv2d_1x1_Activation')(branch_0)\n",
        "\tbranch_1 = Conv2D(128, 1, strides=1, padding='same', use_bias=False, name= 'Block17_9_Branch_9_Conv2d_0a_1x1') (x)\n",
        "\tbranch_1 = BatchNormalization(axis=3, momentum=0.995, epsilon=0.001, scale=False, name='Block17_9_Branch_9_Conv2d_0a_1x1_BatchNorm')(branch_1)\n",
        "\tbranch_1 = Activation('relu', name='Block17_9_Branch_9_Conv2d_0a_1x1_Activation')(branch_1)\n",
        "\tbranch_1 = Conv2D(128, [1, 7], strides=1, padding='same', use_bias=False, name= 'Block17_9_Branch_9_Conv2d_0b_1x7') (branch_1)\n",
        "\tbranch_1 = BatchNormalization(axis=3, momentum=0.995, epsilon=0.001, scale=False, name='Block17_9_Branch_9_Conv2d_0b_1x7_BatchNorm')(branch_1)\n",
        "\tbranch_1 = Activation('relu', name='Block17_9_Branch_9_Conv2d_0b_1x7_Activation')(branch_1)\n",
        "\tbranch_1 = Conv2D(128, [7, 1], strides=1, padding='same', use_bias=False, name= 'Block17_9_Branch_9_Conv2d_0c_7x1') (branch_1)\n",
        "\tbranch_1 = BatchNormalization(axis=3, momentum=0.995, epsilon=0.001, scale=False, name='Block17_9_Branch_9_Conv2d_0c_7x1_BatchNorm')(branch_1)\n",
        "\tbranch_1 = Activation('relu', name='Block17_9_Branch_9_Conv2d_0c_7x1_Activation')(branch_1)\n",
        "\tbranches = [branch_0, branch_1]\n",
        "\tmixed = Concatenate(axis=3, name='Block17_9_Concatenate')(branches)\n",
        "\tup = Conv2D(896, 1, strides=1, padding='same', use_bias=True, name= 'Block17_9_Conv2d_1x1') (mixed)\n",
        "\tup = Lambda(scaling, output_shape=K.int_shape(up)[1:], arguments={'scale': 0.1})(up)\n",
        "\tx = add([x, up])\n",
        "\tx = Activation('relu', name='Block17_9_Activation')(x)\n",
        "\n",
        "\tbranch_0 = Conv2D(128, 1, strides=1, padding='same', use_bias=False, name= 'Block17_10_Branch_0_Conv2d_1x1') (x)\n",
        "\tbranch_0 = BatchNormalization(axis=3, momentum=0.995, epsilon=0.001, scale=False, name='Block17_10_Branch_0_Conv2d_1x1_BatchNorm')(branch_0)\n",
        "\tbranch_0 = Activation('relu', name='Block17_10_Branch_0_Conv2d_1x1_Activation')(branch_0)\n",
        "\tbranch_1 = Conv2D(128, 1, strides=1, padding='same', use_bias=False, name= 'Block17_10_Branch_10_Conv2d_0a_1x1') (x)\n",
        "\tbranch_1 = BatchNormalization(axis=3, momentum=0.995, epsilon=0.001, scale=False, name='Block17_10_Branch_10_Conv2d_0a_1x1_BatchNorm')(branch_1)\n",
        "\tbranch_1 = Activation('relu', name='Block17_10_Branch_10_Conv2d_0a_1x1_Activation')(branch_1)\n",
        "\tbranch_1 = Conv2D(128, [1, 7], strides=1, padding='same', use_bias=False, name= 'Block17_10_Branch_10_Conv2d_0b_1x7') (branch_1)\n",
        "\tbranch_1 = BatchNormalization(axis=3, momentum=0.995, epsilon=0.001, scale=False, name='Block17_10_Branch_10_Conv2d_0b_1x7_BatchNorm')(branch_1)\n",
        "\tbranch_1 = Activation('relu', name='Block17_10_Branch_10_Conv2d_0b_1x7_Activation')(branch_1)\n",
        "\tbranch_1 = Conv2D(128, [7, 1], strides=1, padding='same', use_bias=False, name= 'Block17_10_Branch_10_Conv2d_0c_7x1') (branch_1)\n",
        "\tbranch_1 = BatchNormalization(axis=3, momentum=0.995, epsilon=0.001, scale=False, name='Block17_10_Branch_10_Conv2d_0c_7x1_BatchNorm')(branch_1)\n",
        "\tbranch_1 = Activation('relu', name='Block17_10_Branch_10_Conv2d_0c_7x1_Activation')(branch_1)\n",
        "\tbranches = [branch_0, branch_1]\n",
        "\tmixed = Concatenate(axis=3, name='Block17_10_Concatenate')(branches)\n",
        "\tup = Conv2D(896, 1, strides=1, padding='same', use_bias=True, name= 'Block17_10_Conv2d_1x1') (mixed)\n",
        "\tup = Lambda(scaling, output_shape=K.int_shape(up)[1:], arguments={'scale': 0.1})(up)\n",
        "\tx = add([x, up])\n",
        "\tx = Activation('relu', name='Block17_10_Activation')(x)\n",
        "\n",
        "\t# Mixed 7a (Reduction-B block): 8 x 8 x 2080\n",
        "\tbranch_0 = Conv2D(256, 1, strides=1, padding='same', use_bias=False, name= 'Mixed_7a_Branch_0_Conv2d_0a_1x1') (x)\n",
        "\tbranch_0 = BatchNormalization(axis=3, momentum=0.995, epsilon=0.001, scale=False, name='Mixed_7a_Branch_0_Conv2d_0a_1x1_BatchNorm')(branch_0)\n",
        "\tbranch_0 = Activation('relu', name='Mixed_7a_Branch_0_Conv2d_0a_1x1_Activation')(branch_0)\n",
        "\tbranch_0 = Conv2D(384, 3, strides=2, padding='valid', use_bias=False, name= 'Mixed_7a_Branch_0_Conv2d_1a_3x3') (branch_0)\n",
        "\tbranch_0 = BatchNormalization(axis=3, momentum=0.995, epsilon=0.001, scale=False, name='Mixed_7a_Branch_0_Conv2d_1a_3x3_BatchNorm')(branch_0)\n",
        "\tbranch_0 = Activation('relu', name='Mixed_7a_Branch_0_Conv2d_1a_3x3_Activation')(branch_0)\n",
        "\tbranch_1 = Conv2D(256, 1, strides=1, padding='same', use_bias=False, name= 'Mixed_7a_Branch_1_Conv2d_0a_1x1') (x)\n",
        "\tbranch_1 = BatchNormalization(axis=3, momentum=0.995, epsilon=0.001, scale=False, name='Mixed_7a_Branch_1_Conv2d_0a_1x1_BatchNorm')(branch_1)\n",
        "\tbranch_1 = Activation('relu', name='Mixed_7a_Branch_1_Conv2d_0a_1x1_Activation')(branch_1)\n",
        "\tbranch_1 = Conv2D(256, 3, strides=2, padding='valid', use_bias=False, name= 'Mixed_7a_Branch_1_Conv2d_1a_3x3') (branch_1)\n",
        "\tbranch_1 = BatchNormalization(axis=3, momentum=0.995, epsilon=0.001, scale=False, name='Mixed_7a_Branch_1_Conv2d_1a_3x3_BatchNorm')(branch_1)\n",
        "\tbranch_1 = Activation('relu', name='Mixed_7a_Branch_1_Conv2d_1a_3x3_Activation')(branch_1)\n",
        "\tbranch_2 = Conv2D(256, 1, strides=1, padding='same', use_bias=False, name= 'Mixed_7a_Branch_2_Conv2d_0a_1x1') (x)\n",
        "\tbranch_2 = BatchNormalization(axis=3, momentum=0.995, epsilon=0.001, scale=False, name='Mixed_7a_Branch_2_Conv2d_0a_1x1_BatchNorm')(branch_2)\n",
        "\tbranch_2 = Activation('relu', name='Mixed_7a_Branch_2_Conv2d_0a_1x1_Activation')(branch_2)\n",
        "\tbranch_2 = Conv2D(256, 3, strides=1, padding='same', use_bias=False, name= 'Mixed_7a_Branch_2_Conv2d_0b_3x3') (branch_2)\n",
        "\tbranch_2 = BatchNormalization(axis=3, momentum=0.995, epsilon=0.001, scale=False, name='Mixed_7a_Branch_2_Conv2d_0b_3x3_BatchNorm')(branch_2)\n",
        "\tbranch_2 = Activation('relu', name='Mixed_7a_Branch_2_Conv2d_0b_3x3_Activation')(branch_2)\n",
        "\tbranch_2 = Conv2D(256, 3, strides=2, padding='valid', use_bias=False, name= 'Mixed_7a_Branch_2_Conv2d_1a_3x3') (branch_2)\n",
        "\tbranch_2 = BatchNormalization(axis=3, momentum=0.995, epsilon=0.001, scale=False, name='Mixed_7a_Branch_2_Conv2d_1a_3x3_BatchNorm')(branch_2)\n",
        "\tbranch_2 = Activation('relu', name='Mixed_7a_Branch_2_Conv2d_1a_3x3_Activation')(branch_2)\n",
        "\tbranch_pool = MaxPooling2D(3, strides=2, padding='valid', name='Mixed_7a_Branch_3_MaxPool_1a_3x3')(x)\n",
        "\tbranches = [branch_0, branch_1, branch_2, branch_pool]\n",
        "\tx = Concatenate(axis=3, name='Mixed_7a')(branches)\n",
        "\n",
        "\t# 5x Block8 (Inception-ResNet-C block):\n",
        "\n",
        "\tbranch_0 = Conv2D(192, 1, strides=1, padding='same', use_bias=False, name= 'Block8_1_Branch_0_Conv2d_1x1') (x)\n",
        "\tbranch_0 = BatchNormalization(axis=3, momentum=0.995, epsilon=0.001, scale=False, name='Block8_1_Branch_0_Conv2d_1x1_BatchNorm')(branch_0)\n",
        "\tbranch_0 = Activation('relu', name='Block8_1_Branch_0_Conv2d_1x1_Activation')(branch_0)\n",
        "\tbranch_1 = Conv2D(192, 1, strides=1, padding='same', use_bias=False, name= 'Block8_1_Branch_1_Conv2d_0a_1x1') (x)\n",
        "\tbranch_1 = BatchNormalization(axis=3, momentum=0.995, epsilon=0.001, scale=False, name='Block8_1_Branch_1_Conv2d_0a_1x1_BatchNorm')(branch_1)\n",
        "\tbranch_1 = Activation('relu', name='Block8_1_Branch_1_Conv2d_0a_1x1_Activation')(branch_1)\n",
        "\tbranch_1 = Conv2D(192, [1, 3], strides=1, padding='same', use_bias=False, name= 'Block8_1_Branch_1_Conv2d_0b_1x3') (branch_1)\n",
        "\tbranch_1 = BatchNormalization(axis=3, momentum=0.995, epsilon=0.001, scale=False, name='Block8_1_Branch_1_Conv2d_0b_1x3_BatchNorm')(branch_1)\n",
        "\tbranch_1 = Activation('relu', name='Block8_1_Branch_1_Conv2d_0b_1x3_Activation')(branch_1)\n",
        "\tbranch_1 = Conv2D(192, [3, 1], strides=1, padding='same', use_bias=False, name= 'Block8_1_Branch_1_Conv2d_0c_3x1') (branch_1)\n",
        "\tbranch_1 = BatchNormalization(axis=3, momentum=0.995, epsilon=0.001, scale=False, name='Block8_1_Branch_1_Conv2d_0c_3x1_BatchNorm')(branch_1)\n",
        "\tbranch_1 = Activation('relu', name='Block8_1_Branch_1_Conv2d_0c_3x1_Activation')(branch_1)\n",
        "\tbranches = [branch_0, branch_1]\n",
        "\tmixed = Concatenate(axis=3, name='Block8_1_Concatenate')(branches)\n",
        "\tup = Conv2D(1792, 1, strides=1, padding='same', use_bias=True, name= 'Block8_1_Conv2d_1x1') (mixed)\n",
        "\tup = Lambda(scaling, output_shape=K.int_shape(up)[1:], arguments={'scale': 0.2})(up)\n",
        "\tx = add([x, up])\n",
        "\tx = Activation('relu', name='Block8_1_Activation')(x)\n",
        "\n",
        "\tbranch_0 = Conv2D(192, 1, strides=1, padding='same', use_bias=False, name= 'Block8_2_Branch_0_Conv2d_1x1') (x)\n",
        "\tbranch_0 = BatchNormalization(axis=3, momentum=0.995, epsilon=0.001, scale=False, name='Block8_2_Branch_0_Conv2d_1x1_BatchNorm')(branch_0)\n",
        "\tbranch_0 = Activation('relu', name='Block8_2_Branch_0_Conv2d_1x1_Activation')(branch_0)\n",
        "\tbranch_1 = Conv2D(192, 1, strides=1, padding='same', use_bias=False, name= 'Block8_2_Branch_2_Conv2d_0a_1x1') (x)\n",
        "\tbranch_1 = BatchNormalization(axis=3, momentum=0.995, epsilon=0.001, scale=False, name='Block8_2_Branch_2_Conv2d_0a_1x1_BatchNorm')(branch_1)\n",
        "\tbranch_1 = Activation('relu', name='Block8_2_Branch_2_Conv2d_0a_1x1_Activation')(branch_1)\n",
        "\tbranch_1 = Conv2D(192, [1, 3], strides=1, padding='same', use_bias=False, name= 'Block8_2_Branch_2_Conv2d_0b_1x3') (branch_1)\n",
        "\tbranch_1 = BatchNormalization(axis=3, momentum=0.995, epsilon=0.001, scale=False, name='Block8_2_Branch_2_Conv2d_0b_1x3_BatchNorm')(branch_1)\n",
        "\tbranch_1 = Activation('relu', name='Block8_2_Branch_2_Conv2d_0b_1x3_Activation')(branch_1)\n",
        "\tbranch_1 = Conv2D(192, [3, 1], strides=1, padding='same', use_bias=False, name= 'Block8_2_Branch_2_Conv2d_0c_3x1') (branch_1)\n",
        "\tbranch_1 = BatchNormalization(axis=3, momentum=0.995, epsilon=0.001, scale=False, name='Block8_2_Branch_2_Conv2d_0c_3x1_BatchNorm')(branch_1)\n",
        "\tbranch_1 = Activation('relu', name='Block8_2_Branch_2_Conv2d_0c_3x1_Activation')(branch_1)\n",
        "\tbranches = [branch_0, branch_1]\n",
        "\tmixed = Concatenate(axis=3, name='Block8_2_Concatenate')(branches)\n",
        "\tup = Conv2D(1792, 1, strides=1, padding='same', use_bias=True, name= 'Block8_2_Conv2d_1x1') (mixed)\n",
        "\tup = Lambda(scaling, output_shape=K.int_shape(up)[1:], arguments={'scale': 0.2})(up)\n",
        "\tx = add([x, up])\n",
        "\tx = Activation('relu', name='Block8_2_Activation')(x)\n",
        "\n",
        "\tbranch_0 = Conv2D(192, 1, strides=1, padding='same', use_bias=False, name= 'Block8_3_Branch_0_Conv2d_1x1') (x)\n",
        "\tbranch_0 = BatchNormalization(axis=3, momentum=0.995, epsilon=0.001, scale=False, name='Block8_3_Branch_0_Conv2d_1x1_BatchNorm')(branch_0)\n",
        "\tbranch_0 = Activation('relu', name='Block8_3_Branch_0_Conv2d_1x1_Activation')(branch_0)\n",
        "\tbranch_1 = Conv2D(192, 1, strides=1, padding='same', use_bias=False, name= 'Block8_3_Branch_3_Conv2d_0a_1x1') (x)\n",
        "\tbranch_1 = BatchNormalization(axis=3, momentum=0.995, epsilon=0.001, scale=False, name='Block8_3_Branch_3_Conv2d_0a_1x1_BatchNorm')(branch_1)\n",
        "\tbranch_1 = Activation('relu', name='Block8_3_Branch_3_Conv2d_0a_1x1_Activation')(branch_1)\n",
        "\tbranch_1 = Conv2D(192, [1, 3], strides=1, padding='same', use_bias=False, name= 'Block8_3_Branch_3_Conv2d_0b_1x3') (branch_1)\n",
        "\tbranch_1 = BatchNormalization(axis=3, momentum=0.995, epsilon=0.001, scale=False, name='Block8_3_Branch_3_Conv2d_0b_1x3_BatchNorm')(branch_1)\n",
        "\tbranch_1 = Activation('relu', name='Block8_3_Branch_3_Conv2d_0b_1x3_Activation')(branch_1)\n",
        "\tbranch_1 = Conv2D(192, [3, 1], strides=1, padding='same', use_bias=False, name= 'Block8_3_Branch_3_Conv2d_0c_3x1') (branch_1)\n",
        "\tbranch_1 = BatchNormalization(axis=3, momentum=0.995, epsilon=0.001, scale=False, name='Block8_3_Branch_3_Conv2d_0c_3x1_BatchNorm')(branch_1)\n",
        "\tbranch_1 = Activation('relu', name='Block8_3_Branch_3_Conv2d_0c_3x1_Activation')(branch_1)\n",
        "\tbranches = [branch_0, branch_1]\n",
        "\tmixed = Concatenate(axis=3, name='Block8_3_Concatenate')(branches)\n",
        "\tup = Conv2D(1792, 1, strides=1, padding='same', use_bias=True, name= 'Block8_3_Conv2d_1x1') (mixed)\n",
        "\tup = Lambda(scaling, output_shape=K.int_shape(up)[1:], arguments={'scale': 0.2})(up)\n",
        "\tx = add([x, up])\n",
        "\tx = Activation('relu', name='Block8_3_Activation')(x)\n",
        "\n",
        "\tbranch_0 = Conv2D(192, 1, strides=1, padding='same', use_bias=False, name= 'Block8_4_Branch_0_Conv2d_1x1') (x)\n",
        "\tbranch_0 = BatchNormalization(axis=3, momentum=0.995, epsilon=0.001, scale=False, name='Block8_4_Branch_0_Conv2d_1x1_BatchNorm')(branch_0)\n",
        "\tbranch_0 = Activation('relu', name='Block8_4_Branch_0_Conv2d_1x1_Activation')(branch_0)\n",
        "\tbranch_1 = Conv2D(192, 1, strides=1, padding='same', use_bias=False, name= 'Block8_4_Branch_4_Conv2d_0a_1x1') (x)\n",
        "\tbranch_1 = BatchNormalization(axis=3, momentum=0.995, epsilon=0.001, scale=False, name='Block8_4_Branch_4_Conv2d_0a_1x1_BatchNorm')(branch_1)\n",
        "\tbranch_1 = Activation('relu', name='Block8_4_Branch_4_Conv2d_0a_1x1_Activation')(branch_1)\n",
        "\tbranch_1 = Conv2D(192, [1, 3], strides=1, padding='same', use_bias=False, name= 'Block8_4_Branch_4_Conv2d_0b_1x3') (branch_1)\n",
        "\tbranch_1 = BatchNormalization(axis=3, momentum=0.995, epsilon=0.001, scale=False, name='Block8_4_Branch_4_Conv2d_0b_1x3_BatchNorm')(branch_1)\n",
        "\tbranch_1 = Activation('relu', name='Block8_4_Branch_4_Conv2d_0b_1x3_Activation')(branch_1)\n",
        "\tbranch_1 = Conv2D(192, [3, 1], strides=1, padding='same', use_bias=False, name= 'Block8_4_Branch_4_Conv2d_0c_3x1') (branch_1)\n",
        "\tbranch_1 = BatchNormalization(axis=3, momentum=0.995, epsilon=0.001, scale=False, name='Block8_4_Branch_4_Conv2d_0c_3x1_BatchNorm')(branch_1)\n",
        "\tbranch_1 = Activation('relu', name='Block8_4_Branch_4_Conv2d_0c_3x1_Activation')(branch_1)\n",
        "\tbranches = [branch_0, branch_1]\n",
        "\tmixed = Concatenate(axis=3, name='Block8_4_Concatenate')(branches)\n",
        "\tup = Conv2D(1792, 1, strides=1, padding='same', use_bias=True, name= 'Block8_4_Conv2d_1x1') (mixed)\n",
        "\tup = Lambda(scaling, output_shape=K.int_shape(up)[1:], arguments={'scale': 0.2})(up)\n",
        "\tx = add([x, up])\n",
        "\tx = Activation('relu', name='Block8_4_Activation')(x)\n",
        "\n",
        "\tbranch_0 = Conv2D(192, 1, strides=1, padding='same', use_bias=False, name= 'Block8_5_Branch_0_Conv2d_1x1') (x)\n",
        "\tbranch_0 = BatchNormalization(axis=3, momentum=0.995, epsilon=0.001, scale=False, name='Block8_5_Branch_0_Conv2d_1x1_BatchNorm')(branch_0)\n",
        "\tbranch_0 = Activation('relu', name='Block8_5_Branch_0_Conv2d_1x1_Activation')(branch_0)\n",
        "\tbranch_1 = Conv2D(192, 1, strides=1, padding='same', use_bias=False, name= 'Block8_5_Branch_5_Conv2d_0a_1x1') (x)\n",
        "\tbranch_1 = BatchNormalization(axis=3, momentum=0.995, epsilon=0.001, scale=False, name='Block8_5_Branch_5_Conv2d_0a_1x1_BatchNorm')(branch_1)\n",
        "\tbranch_1 = Activation('relu', name='Block8_5_Branch_5_Conv2d_0a_1x1_Activation')(branch_1)\n",
        "\tbranch_1 = Conv2D(192, [1, 3], strides=1, padding='same', use_bias=False, name= 'Block8_5_Branch_5_Conv2d_0b_1x3') (branch_1)\n",
        "\tbranch_1 = BatchNormalization(axis=3, momentum=0.995, epsilon=0.001, scale=False, name='Block8_5_Branch_5_Conv2d_0b_1x3_BatchNorm')(branch_1)\n",
        "\tbranch_1 = Activation('relu', name='Block8_5_Branch_5_Conv2d_0b_1x3_Activation')(branch_1)\n",
        "\tbranch_1 = Conv2D(192, [3, 1], strides=1, padding='same', use_bias=False, name= 'Block8_5_Branch_5_Conv2d_0c_3x1') (branch_1)\n",
        "\tbranch_1 = BatchNormalization(axis=3, momentum=0.995, epsilon=0.001, scale=False, name='Block8_5_Branch_5_Conv2d_0c_3x1_BatchNorm')(branch_1)\n",
        "\tbranch_1 = Activation('relu', name='Block8_5_Branch_5_Conv2d_0c_3x1_Activation')(branch_1)\n",
        "\tbranches = [branch_0, branch_1]\n",
        "\tmixed = Concatenate(axis=3, name='Block8_5_Concatenate')(branches)\n",
        "\tup = Conv2D(1792, 1, strides=1, padding='same', use_bias=True, name= 'Block8_5_Conv2d_1x1') (mixed)\n",
        "\tup = Lambda(scaling, output_shape=K.int_shape(up)[1:], arguments={'scale': 0.2})(up)\n",
        "\tx = add([x, up])\n",
        "\tx = Activation('relu', name='Block8_5_Activation')(x)\n",
        "\n",
        "\tbranch_0 = Conv2D(192, 1, strides=1, padding='same', use_bias=False, name= 'Block8_6_Branch_0_Conv2d_1x1') (x)\n",
        "\tbranch_0 = BatchNormalization(axis=3, momentum=0.995, epsilon=0.001, scale=False, name='Block8_6_Branch_0_Conv2d_1x1_BatchNorm')(branch_0)\n",
        "\tbranch_0 = Activation('relu', name='Block8_6_Branch_0_Conv2d_1x1_Activation')(branch_0)\n",
        "\tbranch_1 = Conv2D(192, 1, strides=1, padding='same', use_bias=False, name= 'Block8_6_Branch_1_Conv2d_0a_1x1') (x)\n",
        "\tbranch_1 = BatchNormalization(axis=3, momentum=0.995, epsilon=0.001, scale=False, name='Block8_6_Branch_1_Conv2d_0a_1x1_BatchNorm')(branch_1)\n",
        "\tbranch_1 = Activation('relu', name='Block8_6_Branch_1_Conv2d_0a_1x1_Activation')(branch_1)\n",
        "\tbranch_1 = Conv2D(192, [1, 3], strides=1, padding='same', use_bias=False, name= 'Block8_6_Branch_1_Conv2d_0b_1x3') (branch_1)\n",
        "\tbranch_1 = BatchNormalization(axis=3, momentum=0.995, epsilon=0.001, scale=False, name='Block8_6_Branch_1_Conv2d_0b_1x3_BatchNorm')(branch_1)\n",
        "\tbranch_1 = Activation('relu', name='Block8_6_Branch_1_Conv2d_0b_1x3_Activation')(branch_1)\n",
        "\tbranch_1 = Conv2D(192, [3, 1], strides=1, padding='same', use_bias=False, name= 'Block8_6_Branch_1_Conv2d_0c_3x1') (branch_1)\n",
        "\tbranch_1 = BatchNormalization(axis=3, momentum=0.995, epsilon=0.001, scale=False, name='Block8_6_Branch_1_Conv2d_0c_3x1_BatchNorm')(branch_1)\n",
        "\tbranch_1 = Activation('relu', name='Block8_6_Branch_1_Conv2d_0c_3x1_Activation')(branch_1)\n",
        "\tbranches = [branch_0, branch_1]\n",
        "\tmixed = Concatenate(axis=3, name='Block8_6_Concatenate')(branches)\n",
        "\tup = Conv2D(1792, 1, strides=1, padding='same', use_bias=True, name= 'Block8_6_Conv2d_1x1') (mixed)\n",
        "\tup = Lambda(scaling, output_shape=K.int_shape(up)[1:], arguments={'scale': 1})(up)\n",
        "\tx = add([x, up])\n",
        "\n",
        "\t# Classification block\n",
        "\tx = GlobalAveragePooling2D(name='AvgPool')(x)\n",
        "\tx = Dropout(1.0 - 0.8, name='Dropout')(x)\n",
        "\t# Bottleneck\n",
        "\tx = Dense(128, use_bias=False, name='Bottleneck')(x)\n",
        "\tx = BatchNormalization(momentum=0.995, epsilon=0.001, scale=False, name='Bottleneck_BatchNorm')(x)\n",
        "\n",
        "\t# Create model\n",
        "\tmodel = Model(inputs, x, name='inception_resnet_v1')\n",
        "\n",
        "\treturn model\n",
        "\n",
        "# Create the FaceNet model\n",
        "# face_encoder = InceptionResNetV2()\n",
        "\n",
        "# # Load the weights of the model\n",
        "# path = \"facenet_keras_weights.h5\"\n",
        "# face_encoder.load_weights(path)"
      ],
      "metadata": {
        "id": "srEa1TDIRXzr"
      },
      "execution_count": null,
      "outputs": []
    },
    {
      "cell_type": "code",
      "source": [
        "face_encoder = InceptionResNetV2()\n",
        "\n",
        "# # Load the weights of the model\n",
        "path = \"/content/gdrive/MyDrive/facenet_keras_weights.h5\"\n",
        "face_encoder.load_weights(path)"
      ],
      "metadata": {
        "id": "8c-gZmxDUI-Z"
      },
      "execution_count": null,
      "outputs": []
    },
    {
      "cell_type": "code",
      "source": [
        "def open_prepare_image(file):\n",
        "  image = Image.open(file).convert('RGB')\n",
        "  pixels = np.asarray(image)\n",
        "\n",
        "  return pixels"
      ],
      "metadata": {
        "id": "nAeWSGR94uP_"
      },
      "execution_count": null,
      "outputs": []
    },
    {
      "cell_type": "code",
      "source": [
        "PATH = '/content/gdrive/MyDrive/croppedImages-full'\n",
        "images = []\n",
        "for image_path in os.listdir(PATH):\n",
        "  image = open_prepare_image(os.path.join(PATH, image_path))\n",
        "  image_copy = np.copy(image)\n",
        "  newsize = (160, 160)\n",
        "  resized_image = cv2.resize(image_copy, newsize)\n",
        "  input_image = np.array(resized_image)  # Convert PIL image to numpy array\n",
        "\n",
        "  input_image = (input_image/255.0).astype(np.float32)  # Normalize pixel values\n",
        "\n",
        "  input_image = np.expand_dims(input_image, axis=0)\n",
        "\n",
        "  images.append(input_image)"
      ],
      "metadata": {
        "id": "Q_EFgSZ97FZC"
      },
      "execution_count": null,
      "outputs": []
    },
    {
      "cell_type": "code",
      "source": [
        "new_arr = np.squeeze(images, axis=1)\n",
        "\n",
        "print(new_arr.shape)"
      ],
      "metadata": {
        "id": "PttsLUef8biK",
        "colab": {
          "base_uri": "https://localhost:8080/"
        },
        "outputId": "7f5a3ea5-9559-45e3-b17d-c31b41396482"
      },
      "execution_count": null,
      "outputs": [
        {
          "output_type": "stream",
          "name": "stdout",
          "text": [
            "(8996, 160, 160, 3)\n"
          ]
        }
      ]
    },
    {
      "cell_type": "code",
      "source": [
        "new_arr = da.from_array(np.asarray(new_arr), chunks=(1000, 1000, 1000, 1000))\n"
      ],
      "metadata": {
        "id": "TKSW0cjZgiAu"
      },
      "execution_count": null,
      "outputs": []
    },
    {
      "cell_type": "code",
      "source": [
        "embeddings = face_encoder.predict(new_arr)"
      ],
      "metadata": {
        "id": "QAYiYTYtW20B",
        "colab": {
          "base_uri": "https://localhost:8080/"
        },
        "outputId": "dc5fc13c-35bf-4f54-fe07-f4913df2b982"
      },
      "execution_count": null,
      "outputs": [
        {
          "output_type": "stream",
          "name": "stderr",
          "text": [
            "WARNING:tensorflow:Keras is training/fitting/evaluating on array-like data. Keras may not be optimized for this format, so if your input data format is supported by TensorFlow I/O (https://github.com/tensorflow/io) we recommend using that to load a Dataset instead.\n"
          ]
        },
        {
          "output_type": "stream",
          "name": "stdout",
          "text": [
            "282/282 [==============================] - 20s 50ms/step\n"
          ]
        }
      ]
    },
    {
      "cell_type": "code",
      "source": [
        "gaussian_model = GaussianMixture(n_components=6)\n",
        "\n",
        "gaussian_model.fit(embeddings)\n",
        "\n",
        "gaussian_result = gaussian_model.predict(embeddings)\n",
        "\n",
        "np.unique(gaussian_result, return_counts=True)"
      ],
      "metadata": {
        "id": "pQvk60iv6b-s",
        "colab": {
          "base_uri": "https://localhost:8080/"
        },
        "outputId": "a13a8a4f-b095-4e4b-aec4-22eddf942676"
      },
      "execution_count": null,
      "outputs": [
        {
          "output_type": "execute_result",
          "data": {
            "text/plain": [
              "(array([0, 1, 2, 3, 4, 5]), array([ 917, 1258,  687, 2654, 2292, 1188]))"
            ]
          },
          "metadata": {},
          "execution_count": 21
        }
      ]
    },
    {
      "cell_type": "code",
      "source": [
        "gaussian_result.shape"
      ],
      "metadata": {
        "id": "PmQziB7oX3rY",
        "colab": {
          "base_uri": "https://localhost:8080/"
        },
        "outputId": "f1b34fb7-644e-4d1f-cc99-acfc98d9a21f"
      },
      "execution_count": null,
      "outputs": [
        {
          "output_type": "execute_result",
          "data": {
            "text/plain": [
              "(8996,)"
            ]
          },
          "metadata": {},
          "execution_count": 24
        }
      ]
    },
    {
      "cell_type": "code",
      "source": [
        "# Calculate Silhouette Score\n",
        "silhouette = silhouette_score(embeddings, gaussian_result)\n",
        "print(\"Silhouette Score:\", silhouette)\n",
        "\n",
        "# Calculate Calinski-Harabasz Index\n",
        "calinski_harabasz = calinski_harabasz_score(embeddings, gaussian_result)\n",
        "print(\"Calinski-Harabasz Index:\", calinski_harabasz)\n",
        "\n",
        "# Calculate Davies-Bouldin Index\n",
        "davies_bouldin = davies_bouldin_score(embeddings, gaussian_result)\n",
        "print(\"Davies-Bouldin Index:\", davies_bouldin)"
      ],
      "metadata": {
        "id": "6oNEu0E3zkkH"
      },
      "execution_count": null,
      "outputs": []
    },
    {
      "cell_type": "code",
      "source": [
        "n = 0\n",
        "for i in range(107, len(gaussian_result)):\n",
        "    if gaussian_result[i] == 5 and n < 4:\n",
        "        n += 1\n",
        "        plt.imshow(new_arr[i])\n",
        "        plt.show()"
      ],
      "metadata": {
        "id": "T8zLnhnZylOu"
      },
      "execution_count": null,
      "outputs": []
    },
    {
      "cell_type": "code",
      "source": [
        "if not os.path.exists('/content/clusters'):\n",
        "    os.mkdir('/content/clusters')\n",
        "# b = 0\n",
        "for result,image_path in zip(gaussian_result,os.listdir(PATH)):\n",
        "      # if b == 3:\n",
        "      #     break\n",
        "      image = os.path.join(PATH, image_path)\n",
        "      # Create a folder\n",
        "      folder_name = os.path.join(\"/content/clusters/\", 'c' + str(result))\n",
        "      os.makedirs(folder_name, exist_ok=True)\n",
        "\n",
        "      # Move the file to the new folder\n",
        "      source_file = os.path.join(folder_name, os.path.basename(image))\n",
        "      shutil.copy(image, source_file)\n",
        "      # b += 1\n"
      ],
      "metadata": {
        "id": "S-zSZsSePdao"
      },
      "execution_count": null,
      "outputs": []
    },
    {
      "cell_type": "code",
      "source": [
        "WEIGHTS_FOLDER = '/content/weights'\n",
        "DATA_FOLDER = '/content/gdrive/MyDrive/croppedImages-full'\n",
        "\n",
        "Z_DIM = 200\n",
        "\n",
        "if not os.path.exists(WEIGHTS_FOLDER):\n",
        "  os.makedirs(os.path.join(WEIGHTS_FOLDER,\"AE\"))\n",
        "  os.makedirs(os.path.join(WEIGHTS_FOLDER,\"VAE\"))\n",
        "\n",
        "filenames = np.array(glob(os.path.join(DATA_FOLDER, '*.jpg')))\n",
        "NUM_IMAGES = len(filenames)\n",
        "print(\"Total number of images : \" + str(NUM_IMAGES))"
      ],
      "metadata": {
        "colab": {
          "base_uri": "https://localhost:8080/"
        },
        "id": "QvSMvtul0MwW",
        "outputId": "d37d17b2-a29e-4642-8ba3-66a7d255cc37"
      },
      "execution_count": null,
      "outputs": [
        {
          "output_type": "stream",
          "name": "stdout",
          "text": [
            "Total number of images : 8996\n"
          ]
        }
      ]
    },
    {
      "cell_type": "code",
      "source": [
        "def build_decoder(test=False, out_size=(128, 128)):\n",
        "    def decoder(path):\n",
        "        img = file_bytes = tf.io.read_file(path)\n",
        "        img = tf.image.decode_jpeg(file_bytes, channels=3)\n",
        "        img = tf.image.resize(img, (128, 128))\n",
        "        img = tf.cast(img, tf.float32) / 255.0\n",
        "        return img\n",
        "    def decoder_train(path):\n",
        "        return decoder(path), decoder(path)\n",
        "\n",
        "    return decoder if test else decoder_train\n",
        "\n",
        "def build_dataset(paths, test=False, shuffle=1, batch_size=1):\n",
        "    AUTO = tf.data.experimental.AUTOTUNE\n",
        "    decoder = build_decoder(test)\n",
        "\n",
        "    dset = tf.data.Dataset.from_tensor_slices(paths)\n",
        "    dset = dset.map(decoder, num_parallel_calls=AUTO)\n",
        "\n",
        "    dset = dset.shuffle(shuffle)\n",
        "    dset = dset.batch(batch_size)\n",
        "    return dset"
      ],
      "metadata": {
        "id": "y_2m4Y0h1M3f"
      },
      "execution_count": null,
      "outputs": []
    },
    {
      "cell_type": "code",
      "source": [
        "train_paths, valid_paths, _, _ = train_test_split(filenames, filenames, test_size=0.2, shuffle=True)\n",
        "\n",
        "train_dataset = build_dataset(train_paths, batch_size=128)\n",
        "valid_dataset = build_dataset(valid_paths, batch_size=128)"
      ],
      "metadata": {
        "id": "BTDYD4PX1SAu"
      },
      "execution_count": null,
      "outputs": []
    },
    {
      "cell_type": "code",
      "source": [
        "n_components = 6\n",
        "\n",
        "cluster_datasets = {}\n",
        "for cluster in range(n_components):\n",
        "  TEMP_DATA_FOLDER = '/content/clusters/c' + str(cluster)\n",
        "\n",
        "  temp_filenames = np.array(glob(os.path.join(TEMP_DATA_FOLDER, '*.jpg')))\n",
        "  temp_NUM_IMAGES = len(temp_filenames)\n",
        "  print(\"Total number of images : \" + str(temp_NUM_IMAGES))\n",
        "\n",
        "  temp_train_paths, temp_valid_paths, _, _ = train_test_split(temp_filenames, temp_filenames, test_size=0.2, shuffle=True)\n",
        "\n",
        "  cluster_datasets['c'+str(cluster)] = build_dataset(temp_train_paths, batch_size=128)"
      ],
      "metadata": {
        "colab": {
          "base_uri": "https://localhost:8080/"
        },
        "id": "zVEx6QbmVc7I",
        "outputId": "f1344f20-68c0-4b4a-8ca5-c767029c59ea"
      },
      "execution_count": null,
      "outputs": [
        {
          "output_type": "stream",
          "name": "stdout",
          "text": [
            "Total number of images : 917\n",
            "Total number of images : 1258\n",
            "Total number of images : 687\n",
            "Total number of images : 2654\n",
            "Total number of images : 2292\n",
            "Total number of images : 1188\n"
          ]
        }
      ]
    },
    {
      "cell_type": "code",
      "source": [
        "cluster_datasets"
      ],
      "metadata": {
        "colab": {
          "base_uri": "https://localhost:8080/"
        },
        "id": "K0yTwdq8m2Vv",
        "outputId": "34f90ff7-999c-4668-e730-f9072648ee9b"
      },
      "execution_count": null,
      "outputs": [
        {
          "output_type": "execute_result",
          "data": {
            "text/plain": [
              "{'c0': <_BatchDataset element_spec=(TensorSpec(shape=(None, 128, 128, 3), dtype=tf.float32, name=None), TensorSpec(shape=(None, 128, 128, 3), dtype=tf.float32, name=None))>,\n",
              " 'c1': <_BatchDataset element_spec=(TensorSpec(shape=(None, 128, 128, 3), dtype=tf.float32, name=None), TensorSpec(shape=(None, 128, 128, 3), dtype=tf.float32, name=None))>,\n",
              " 'c2': <_BatchDataset element_spec=(TensorSpec(shape=(None, 128, 128, 3), dtype=tf.float32, name=None), TensorSpec(shape=(None, 128, 128, 3), dtype=tf.float32, name=None))>,\n",
              " 'c3': <_BatchDataset element_spec=(TensorSpec(shape=(None, 128, 128, 3), dtype=tf.float32, name=None), TensorSpec(shape=(None, 128, 128, 3), dtype=tf.float32, name=None))>,\n",
              " 'c4': <_BatchDataset element_spec=(TensorSpec(shape=(None, 128, 128, 3), dtype=tf.float32, name=None), TensorSpec(shape=(None, 128, 128, 3), dtype=tf.float32, name=None))>,\n",
              " 'c5': <_BatchDataset element_spec=(TensorSpec(shape=(None, 128, 128, 3), dtype=tf.float32, name=None), TensorSpec(shape=(None, 128, 128, 3), dtype=tf.float32, name=None))>,\n",
              " 'c6': <_BatchDataset element_spec=(TensorSpec(shape=(None, 128, 128, 3), dtype=tf.float32, name=None), TensorSpec(shape=(None, 128, 128, 3), dtype=tf.float32, name=None))>,\n",
              " 'c7': <_BatchDataset element_spec=(TensorSpec(shape=(None, 128, 128, 3), dtype=tf.float32, name=None), TensorSpec(shape=(None, 128, 128, 3), dtype=tf.float32, name=None))>,\n",
              " 'c8': <_BatchDataset element_spec=(TensorSpec(shape=(None, 128, 128, 3), dtype=tf.float32, name=None), TensorSpec(shape=(None, 128, 128, 3), dtype=tf.float32, name=None))>}"
            ]
          },
          "metadata": {},
          "execution_count": 58
        }
      ]
    },
    {
      "cell_type": "code",
      "source": [
        "class VariableAutoencoder:\n",
        "    def __init__(self):\n",
        "        self.input_dim = (128,128,3)\n",
        "        self.batch_size = 512\n",
        "        self.z_dim = 200 # Dimension of the latent vector (z)\n",
        "        self.learning_rate = 0.0005\n",
        "        self.var_autoencoder_model = None\n",
        "        self.var_encoder_model = None\n",
        "        self.var_decoder_model = None\n",
        "\n",
        "    def build(self):\n",
        "        #Encoder\n",
        "        input_encoder = Input(shape=(self.input_dim))\n",
        "        x = Conv2D(32, kernel_size=(3, 3), strides = 2, padding='same', name='encoder_conv2d_1')(input_encoder)\n",
        "        x = LeakyReLU()(x)\n",
        "        x = Conv2D(64, kernel_size=(3, 3), strides = 2, padding='same', name='encoder_conv2d_2')(x)\n",
        "        x = LeakyReLU()(x)\n",
        "        x = Conv2D(64, kernel_size=(3, 3), strides = 2, padding='same', name='encoder_conv2d_3')(x)\n",
        "        x = LeakyReLU()(x)\n",
        "        x = Conv2D(64, kernel_size=(3, 3), strides = 2, padding='same', name='encoder_conv2d_4')(x)\n",
        "        volumeSize = K.int_shape(x)\n",
        "        x = Flatten()(x)\n",
        "\n",
        "        latent_mu = Dense(self.z_dim, name='latent_mean')(x)\n",
        "        latent_log_var = Dense(self.z_dim, name='latent_log_var')(x)\n",
        "\n",
        "        def sampling(args=None):\n",
        "            z_mean, z_log_var = args\n",
        "            batch = K.shape(z_mean)[0]\n",
        "\n",
        "            epsilon = K.random_normal(shape=(batch, self.z_dim))\n",
        "            return z_mean + K.exp(0.5 * z_log_var) * epsilon\n",
        "\n",
        "        latent_sample = Lambda(sampling)([latent_mu, latent_log_var])\n",
        "        self.var_encoder_model = Model(input_encoder, latent_sample, name='encoder')\n",
        "\n",
        "        latent_input = Input(shape=(self.z_dim,), name='decoder_input')\n",
        "        x = Dense(np.prod(volumeSize[1:]))(latent_input)\n",
        "        x = Reshape((volumeSize[1], volumeSize[2], volumeSize[3]))(x)\n",
        "        x = Conv2DTranspose(64, kernel_size=(3, 3), strides=2, padding='same', name='conv2d_1')(x)\n",
        "        x = LeakyReLU()(x)\n",
        "        x = Conv2DTranspose(64, kernel_size=(3, 3), strides=2, padding='same', name='conv2d_2')(x)\n",
        "        x = LeakyReLU()(x)\n",
        "        x = Conv2DTranspose(32, kernel_size=(3, 3), strides=2, padding='same', name='conv2d_3')(x)\n",
        "        x = LeakyReLU()(x)\n",
        "        x = Conv2DTranspose(3, kernel_size=(3, 3), strides=2, padding='same', name='conv2d_4')(x)\n",
        "        output_decoder = Activation('sigmoid')(x)\n",
        "\n",
        "        self.var_decoder_model = Model(latent_input, output_decoder, name='decoder')\n",
        "\n",
        "        output_vae = self.var_decoder_model(self.var_encoder_model(input_encoder))\n",
        "        self.var_autoencoder_model = Model(input_encoder, output_vae, name ='variable_autoencoder')\n",
        "\n",
        "        reconstruction_loss = binary_crossentropy(input_encoder, output_vae) * (128 * 128)\n",
        "        reconstruction_loss = K.mean(reconstruction_loss)\n",
        "\n",
        "        kl_loss = 1 + latent_log_var - K.square(latent_mu) - K.exp(latent_log_var)\n",
        "        kl_loss = K.sum(kl_loss, axis=-1)\n",
        "        kl_loss *= -0.5\n",
        "\n",
        "        vae_loss = K.mean(reconstruction_loss + kl_loss)\n",
        "\n",
        "        self.var_autoencoder_model.add_loss(vae_loss)\n",
        "        self.var_autoencoder_model.add_metric(reconstruction_loss, name='reconstruction_loss')\n",
        "        self.var_autoencoder_model.add_metric(kl_loss, name='kl_divergence_loss')\n",
        "\n",
        "        optimizer = Adam(lr = self.learning_rate)\n",
        "\n",
        "        self.var_autoencoder_model.compile(optimizer=optimizer)\n",
        "\n",
        "        return None\n",
        "\n",
        "    def get_varencoder(self):\n",
        "        if self.var_encoder_model is not None:\n",
        "            return self.var_encoder_model\n",
        "        else:\n",
        "            print(\"Variable Encoder model has not been defined!\")\n",
        "            return None\n",
        "\n",
        "    def get_vardecoder(self):\n",
        "        if self.var_decoder_model is not None:\n",
        "            return self.var_decoder_model\n",
        "        else:\n",
        "            print(\"Variable Decoder model has not been defined!\")\n",
        "            return None\n",
        "\n",
        "    def get_varautoencoder(self):\n",
        "        if self.var_autoencoder_model is not None:\n",
        "            return self.var_autoencoder_model\n",
        "        else:\n",
        "            print(\"Variable Autoencoder model has not been defined!\")\n",
        "            return None"
      ],
      "metadata": {
        "id": "wtGQKdab176P"
      },
      "execution_count": null,
      "outputs": []
    },
    {
      "cell_type": "code",
      "source": [
        "var_model = VariableAutoencoder()\n",
        "var_model.build()\n",
        "\n",
        "var_autoencoder = var_model.get_varautoencoder()\n",
        "var_encoder = var_model.get_varencoder()\n",
        "var_decoder = var_model.get_vardecoder()"
      ],
      "metadata": {
        "colab": {
          "base_uri": "https://localhost:8080/"
        },
        "id": "zzsAvxOk2FQn",
        "outputId": "418c9830-3a61-493c-fb37-eb73ebb5f9df"
      },
      "execution_count": null,
      "outputs": [
        {
          "output_type": "stream",
          "name": "stderr",
          "text": [
            "WARNING:absl:`lr` is deprecated in Keras optimizer, please use `learning_rate` or use the legacy optimizer, e.g.,tf.keras.optimizers.legacy.Adam.\n"
          ]
        }
      ]
    },
    {
      "cell_type": "code",
      "source": [
        "from scipy import stats as st"
      ],
      "metadata": {
        "id": "Uxg7GeIN6jHQ"
      },
      "execution_count": null,
      "outputs": []
    },
    {
      "cell_type": "code",
      "source": [
        "array = var_encoder.predict(train_dataset)\n",
        "\n",
        "average_array = array.mean(axis = 0)\n",
        "len(average_array)"
      ],
      "metadata": {
        "colab": {
          "base_uri": "https://localhost:8080/"
        },
        "id": "wnU_vYJYB1sI",
        "outputId": "b7cb8c25-465c-44c1-84a4-3b8382011b87"
      },
      "execution_count": null,
      "outputs": [
        {
          "output_type": "stream",
          "name": "stdout",
          "text": [
            "57/57 [==============================] - 21s 362ms/step\n"
          ]
        },
        {
          "output_type": "execute_result",
          "data": {
            "text/plain": [
              "200"
            ]
          },
          "metadata": {},
          "execution_count": 70
        }
      ]
    },
    {
      "cell_type": "markdown",
      "source": [],
      "metadata": {
        "id": "bDQjU0oZqoIg"
      }
    },
    {
      "cell_type": "code",
      "source": [
        "cluster_avarage_arrays = {}\n",
        "for i in range(6):\n",
        "  temp_array = var_encoder.predict(cluster_datasets['c'+str(i)])\n",
        "\n",
        "  temp_average_array = temp_array.mean(axis = 0)\n",
        "  cluster_avarage_arrays['c'+str(i)] = temp_average_array"
      ],
      "metadata": {
        "colab": {
          "base_uri": "https://localhost:8080/"
        },
        "id": "cH_RuxZMFX5Q",
        "outputId": "c2fdf631-6539-4bb1-8bd5-f06912be0864"
      },
      "execution_count": null,
      "outputs": [
        {
          "output_type": "stream",
          "name": "stdout",
          "text": [
            "6/6 [==============================] - 0s 55ms/step\n",
            "8/8 [==============================] - 0s 48ms/step\n",
            "5/5 [==============================] - 0s 46ms/step\n",
            "17/17 [==============================] - 1s 57ms/step\n",
            "15/15 [==============================] - 1s 55ms/step\n",
            "8/8 [==============================] - 0s 50ms/step\n"
          ]
        }
      ]
    },
    {
      "cell_type": "code",
      "source": [
        "VAE_N_EPOCHS = 50\n",
        "checkpoint_vae_best = ModelCheckpoint(os.path.join(WEIGHTS_FOLDER, 'VAE/vae_best_model.h5'),\n",
        "                                      monitor='val_loss',\n",
        "                                      mode='min',\n",
        "                                      save_best_only=True,\n",
        "                                      save_weights_only = True,\n",
        "                                      verbose=1)\n",
        "\n",
        "checkpoint_vae_last = ModelCheckpoint(os.path.join(WEIGHTS_FOLDER, 'VAE/vae_last_model.h5'),\n",
        "                                      monitor='val_loss',\n",
        "                                      mode='min',\n",
        "                                      verbose=1,\n",
        "                                      save_best_only=False,\n",
        "                                      save_weights_only=True)\n",
        "\n",
        "var_autoencoder.fit(train_dataset,\n",
        "                    epochs=VAE_N_EPOCHS,\n",
        "                    callbacks=[checkpoint_vae_best, checkpoint_vae_last],\n",
        "                    validation_data=valid_dataset)"
      ],
      "metadata": {
        "colab": {
          "base_uri": "https://localhost:8080/"
        },
        "id": "d9PByohP2Kzf",
        "outputId": "6e9aed85-7cc3-4caf-a459-6f39d06f2d88"
      },
      "execution_count": null,
      "outputs": [
        {
          "output_type": "stream",
          "name": "stdout",
          "text": [
            "Epoch 1/50\n",
            "56/57 [============================>.] - ETA: 0s - loss: 9622.9521 - reconstruction_loss: 9475.8281 - kl_divergence_loss: 147.1241\n",
            "Epoch 1: val_loss improved from inf to 9580.40820, saving model to /content/weights/VAE/vae_best_model.h5\n",
            "\n",
            "Epoch 1: saving model to /content/weights/VAE/vae_last_model.h5\n",
            "57/57 [==============================] - 27s 472ms/step - loss: 9618.8604 - reconstruction_loss: 9471.8213 - kl_divergence_loss: 147.1053 - val_loss: 9580.4082 - val_reconstruction_loss: 9430.9434 - val_kl_divergence_loss: 148.2640\n",
            "Epoch 2/50\n",
            "56/57 [============================>.] - ETA: 0s - loss: 9610.0840 - reconstruction_loss: 9465.8428 - kl_divergence_loss: 144.2424\n",
            "Epoch 2: val_loss improved from 9580.40820 to 9569.69043, saving model to /content/weights/VAE/vae_best_model.h5\n",
            "\n",
            "Epoch 2: saving model to /content/weights/VAE/vae_last_model.h5\n",
            "57/57 [==============================] - 28s 484ms/step - loss: 9605.9814 - reconstruction_loss: 9461.8115 - kl_divergence_loss: 144.2267 - val_loss: 9569.6904 - val_reconstruction_loss: 9423.5537 - val_kl_divergence_loss: 144.8330\n",
            "Epoch 3/50\n",
            "56/57 [============================>.] - ETA: 0s - loss: 9601.2900 - reconstruction_loss: 9458.6924 - kl_divergence_loss: 142.5977\n",
            "Epoch 3: val_loss improved from 9569.69043 to 9564.64160, saving model to /content/weights/VAE/vae_best_model.h5\n",
            "\n",
            "Epoch 3: saving model to /content/weights/VAE/vae_last_model.h5\n",
            "57/57 [==============================] - 29s 502ms/step - loss: 9597.1904 - reconstruction_loss: 9454.7109 - kl_divergence_loss: 142.5713 - val_loss: 9564.6416 - val_reconstruction_loss: 9421.2471 - val_kl_divergence_loss: 141.9987\n",
            "Epoch 4/50\n",
            "56/57 [============================>.] - ETA: 0s - loss: 9595.3096 - reconstruction_loss: 9454.0645 - kl_divergence_loss: 141.2440\n",
            "Epoch 4: val_loss improved from 9564.64160 to 9559.83105, saving model to /content/weights/VAE/vae_best_model.h5\n",
            "\n",
            "Epoch 4: saving model to /content/weights/VAE/vae_last_model.h5\n",
            "57/57 [==============================] - 32s 564ms/step - loss: 9591.1719 - reconstruction_loss: 9450.0439 - kl_divergence_loss: 141.2184 - val_loss: 9559.8311 - val_reconstruction_loss: 9419.4912 - val_kl_divergence_loss: 138.9832\n",
            "Epoch 5/50\n",
            "56/57 [============================>.] - ETA: 0s - loss: 9592.4189 - reconstruction_loss: 9452.5801 - kl_divergence_loss: 139.8385\n",
            "Epoch 5: val_loss improved from 9559.83105 to 9557.12695, saving model to /content/weights/VAE/vae_best_model.h5\n",
            "\n",
            "Epoch 5: saving model to /content/weights/VAE/vae_last_model.h5\n",
            "57/57 [==============================] - 29s 503ms/step - loss: 9588.2578 - reconstruction_loss: 9448.5234 - kl_divergence_loss: 139.8155 - val_loss: 9557.1270 - val_reconstruction_loss: 9416.5254 - val_kl_divergence_loss: 139.1960\n",
            "Epoch 6/50\n",
            "56/57 [============================>.] - ETA: 0s - loss: 9586.9277 - reconstruction_loss: 9447.9473 - kl_divergence_loss: 138.9796\n",
            "Epoch 6: val_loss improved from 9557.12695 to 9553.68164, saving model to /content/weights/VAE/vae_best_model.h5\n",
            "\n",
            "Epoch 6: saving model to /content/weights/VAE/vae_last_model.h5\n",
            "57/57 [==============================] - 30s 521ms/step - loss: 9582.7246 - reconstruction_loss: 9443.8408 - kl_divergence_loss: 138.9584 - val_loss: 9553.6816 - val_reconstruction_loss: 9412.5488 - val_kl_divergence_loss: 139.6936\n",
            "Epoch 7/50\n",
            "56/57 [============================>.] - ETA: 0s - loss: 9583.9043 - reconstruction_loss: 9445.8818 - kl_divergence_loss: 138.0223\n",
            "Epoch 7: val_loss improved from 9553.68164 to 9551.16602, saving model to /content/weights/VAE/vae_best_model.h5\n",
            "\n",
            "Epoch 7: saving model to /content/weights/VAE/vae_last_model.h5\n",
            "57/57 [==============================] - 33s 582ms/step - loss: 9579.7354 - reconstruction_loss: 9441.8115 - kl_divergence_loss: 138.0005 - val_loss: 9551.1660 - val_reconstruction_loss: 9412.6504 - val_kl_divergence_loss: 137.0423\n",
            "Epoch 8/50\n",
            "56/57 [============================>.] - ETA: 0s - loss: 9581.6904 - reconstruction_loss: 9444.4365 - kl_divergence_loss: 137.2560\n",
            "Epoch 8: val_loss did not improve from 9551.16602\n",
            "\n",
            "Epoch 8: saving model to /content/weights/VAE/vae_last_model.h5\n",
            "57/57 [==============================] - 27s 477ms/step - loss: 9577.5430 - reconstruction_loss: 9440.4121 - kl_divergence_loss: 137.2284 - val_loss: 9551.4385 - val_reconstruction_loss: 9412.6406 - val_kl_divergence_loss: 137.2703\n",
            "Epoch 9/50\n",
            "56/57 [============================>.] - ETA: 0s - loss: 9579.4219 - reconstruction_loss: 9442.6787 - kl_divergence_loss: 136.7469\n",
            "Epoch 9: val_loss improved from 9551.16602 to 9549.46875, saving model to /content/weights/VAE/vae_best_model.h5\n",
            "\n",
            "Epoch 9: saving model to /content/weights/VAE/vae_last_model.h5\n",
            "57/57 [==============================] - 28s 486ms/step - loss: 9575.2148 - reconstruction_loss: 9438.5723 - kl_divergence_loss: 136.7245 - val_loss: 9549.4688 - val_reconstruction_loss: 9408.6836 - val_kl_divergence_loss: 139.2736\n",
            "Epoch 10/50\n",
            "56/57 [============================>.] - ETA: 0s - loss: 9576.6592 - reconstruction_loss: 9440.3828 - kl_divergence_loss: 136.2768\n",
            "Epoch 10: val_loss did not improve from 9549.46875\n",
            "\n",
            "Epoch 10: saving model to /content/weights/VAE/vae_last_model.h5\n",
            "57/57 [==============================] - 28s 485ms/step - loss: 9572.4463 - reconstruction_loss: 9436.2969 - kl_divergence_loss: 136.2485 - val_loss: 9550.4170 - val_reconstruction_loss: 9413.4482 - val_kl_divergence_loss: 135.3936\n",
            "Epoch 11/50\n",
            "56/57 [============================>.] - ETA: 0s - loss: 9574.7783 - reconstruction_loss: 9439.2432 - kl_divergence_loss: 135.5332\n",
            "Epoch 11: val_loss improved from 9549.46875 to 9545.81836, saving model to /content/weights/VAE/vae_best_model.h5\n",
            "\n",
            "Epoch 11: saving model to /content/weights/VAE/vae_last_model.h5\n",
            "57/57 [==============================] - 28s 492ms/step - loss: 9570.5498 - reconstruction_loss: 9435.1211 - kl_divergence_loss: 135.5097 - val_loss: 9545.8184 - val_reconstruction_loss: 9407.3291 - val_kl_divergence_loss: 137.0005\n",
            "Epoch 12/50\n",
            "56/57 [============================>.] - ETA: 0s - loss: 9572.4014 - reconstruction_loss: 9437.3291 - kl_divergence_loss: 135.0726\n",
            "Epoch 12: val_loss improved from 9545.81836 to 9542.19043, saving model to /content/weights/VAE/vae_best_model.h5\n",
            "\n",
            "Epoch 12: saving model to /content/weights/VAE/vae_last_model.h5\n",
            "57/57 [==============================] - 34s 592ms/step - loss: 9568.1592 - reconstruction_loss: 9433.1895 - kl_divergence_loss: 135.0497 - val_loss: 9542.1904 - val_reconstruction_loss: 9407.3184 - val_kl_divergence_loss: 133.2845\n",
            "Epoch 13/50\n",
            "57/57 [==============================] - ETA: 0s - loss: 9566.1162 - reconstruction_loss: 9431.7334 - kl_divergence_loss: 134.4715\n",
            "Epoch 13: val_loss did not improve from 9542.19043\n",
            "\n",
            "Epoch 13: saving model to /content/weights/VAE/vae_last_model.h5\n",
            "57/57 [==============================] - 29s 507ms/step - loss: 9566.1162 - reconstruction_loss: 9431.7334 - kl_divergence_loss: 134.4715 - val_loss: 9542.4375 - val_reconstruction_loss: 9406.3281 - val_kl_divergence_loss: 134.5521\n",
            "Epoch 14/50\n",
            "56/57 [============================>.] - ETA: 0s - loss: 9568.7295 - reconstruction_loss: 9434.5498 - kl_divergence_loss: 134.1808\n",
            "Epoch 14: val_loss improved from 9542.19043 to 9541.18848, saving model to /content/weights/VAE/vae_best_model.h5\n",
            "\n",
            "Epoch 14: saving model to /content/weights/VAE/vae_last_model.h5\n",
            "57/57 [==============================] - 28s 490ms/step - loss: 9564.5156 - reconstruction_loss: 9430.4219 - kl_divergence_loss: 134.1616 - val_loss: 9541.1885 - val_reconstruction_loss: 9403.2207 - val_kl_divergence_loss: 136.4037\n",
            "Epoch 15/50\n",
            "56/57 [============================>.] - ETA: 0s - loss: 9567.5088 - reconstruction_loss: 9433.8535 - kl_divergence_loss: 133.6557\n",
            "Epoch 15: val_loss improved from 9541.18848 to 9540.43457, saving model to /content/weights/VAE/vae_best_model.h5\n",
            "\n",
            "Epoch 15: saving model to /content/weights/VAE/vae_last_model.h5\n",
            "57/57 [==============================] - 28s 493ms/step - loss: 9563.2861 - reconstruction_loss: 9429.7051 - kl_divergence_loss: 133.6392 - val_loss: 9540.4346 - val_reconstruction_loss: 9401.8311 - val_kl_divergence_loss: 136.9882\n",
            "Epoch 16/50\n",
            "56/57 [============================>.] - ETA: 0s - loss: 9566.0605 - reconstruction_loss: 9432.3545 - kl_divergence_loss: 133.7073\n",
            "Epoch 16: val_loss improved from 9540.43457 to 9540.30762, saving model to /content/weights/VAE/vae_best_model.h5\n",
            "\n",
            "Epoch 16: saving model to /content/weights/VAE/vae_last_model.h5\n",
            "57/57 [==============================] - 34s 595ms/step - loss: 9561.8311 - reconstruction_loss: 9428.2344 - kl_divergence_loss: 133.6831 - val_loss: 9540.3076 - val_reconstruction_loss: 9401.9570 - val_kl_divergence_loss: 136.8201\n",
            "Epoch 17/50\n",
            "57/57 [==============================] - ETA: 0s - loss: 9560.1836 - reconstruction_loss: 9427.2939 - kl_divergence_loss: 132.9761\n",
            "Epoch 17: val_loss improved from 9540.30762 to 9538.45605, saving model to /content/weights/VAE/vae_best_model.h5\n",
            "\n",
            "Epoch 17: saving model to /content/weights/VAE/vae_last_model.h5\n",
            "57/57 [==============================] - 29s 501ms/step - loss: 9560.1836 - reconstruction_loss: 9427.2939 - kl_divergence_loss: 132.9761 - val_loss: 9538.4561 - val_reconstruction_loss: 9403.6387 - val_kl_divergence_loss: 133.2965\n",
            "Epoch 18/50\n",
            "56/57 [============================>.] - ETA: 0s - loss: 9563.3809 - reconstruction_loss: 9430.4844 - kl_divergence_loss: 132.8952\n",
            "Epoch 18: val_loss did not improve from 9538.45605\n",
            "\n",
            "Epoch 18: saving model to /content/weights/VAE/vae_last_model.h5\n",
            "57/57 [==============================] - 29s 499ms/step - loss: 9559.0723 - reconstruction_loss: 9426.2998 - kl_divergence_loss: 132.8679 - val_loss: 9542.5332 - val_reconstruction_loss: 9411.0596 - val_kl_divergence_loss: 129.8798\n",
            "Epoch 19/50\n",
            "56/57 [============================>.] - ETA: 0s - loss: 9564.8213 - reconstruction_loss: 9432.3516 - kl_divergence_loss: 132.4704\n",
            "Epoch 19: val_loss improved from 9538.45605 to 9535.05957, saving model to /content/weights/VAE/vae_best_model.h5\n",
            "\n",
            "Epoch 19: saving model to /content/weights/VAE/vae_last_model.h5\n",
            "57/57 [==============================] - 28s 484ms/step - loss: 9560.4248 - reconstruction_loss: 9428.0547 - kl_divergence_loss: 132.4482 - val_loss: 9535.0596 - val_reconstruction_loss: 9399.6240 - val_kl_divergence_loss: 133.7581\n",
            "Epoch 20/50\n",
            "56/57 [============================>.] - ETA: 0s - loss: 9560.7334 - reconstruction_loss: 9428.6250 - kl_divergence_loss: 132.1065\n",
            "Epoch 20: val_loss did not improve from 9535.05957\n",
            "\n",
            "Epoch 20: saving model to /content/weights/VAE/vae_last_model.h5\n",
            "57/57 [==============================] - 33s 573ms/step - loss: 9556.4980 - reconstruction_loss: 9424.4092 - kl_divergence_loss: 132.1024 - val_loss: 9538.2988 - val_reconstruction_loss: 9402.5156 - val_kl_divergence_loss: 134.2103\n",
            "Epoch 21/50\n",
            "57/57 [==============================] - ETA: 0s - loss: 9556.1074 - reconstruction_loss: 9424.4209 - kl_divergence_loss: 131.7493\n",
            "Epoch 21: val_loss improved from 9535.05957 to 9534.64160, saving model to /content/weights/VAE/vae_best_model.h5\n",
            "\n",
            "Epoch 21: saving model to /content/weights/VAE/vae_last_model.h5\n",
            "57/57 [==============================] - 33s 587ms/step - loss: 9556.1074 - reconstruction_loss: 9424.4209 - kl_divergence_loss: 131.7493 - val_loss: 9534.6416 - val_reconstruction_loss: 9402.7061 - val_kl_divergence_loss: 130.2890\n",
            "Epoch 22/50\n",
            "56/57 [============================>.] - ETA: 0s - loss: 9558.5459 - reconstruction_loss: 9427.0645 - kl_divergence_loss: 131.4815\n",
            "Epoch 22: val_loss improved from 9534.64160 to 9533.78320, saving model to /content/weights/VAE/vae_best_model.h5\n",
            "\n",
            "Epoch 22: saving model to /content/weights/VAE/vae_last_model.h5\n",
            "57/57 [==============================] - 27s 482ms/step - loss: 9554.2520 - reconstruction_loss: 9422.8379 - kl_divergence_loss: 131.4669 - val_loss: 9533.7832 - val_reconstruction_loss: 9398.8613 - val_kl_divergence_loss: 133.3309\n",
            "Epoch 23/50\n",
            "56/57 [============================>.] - ETA: 0s - loss: 9556.8408 - reconstruction_loss: 9425.6885 - kl_divergence_loss: 131.1534\n",
            "Epoch 23: val_loss did not improve from 9533.78320\n",
            "\n",
            "Epoch 23: saving model to /content/weights/VAE/vae_last_model.h5\n",
            "57/57 [==============================] - 27s 474ms/step - loss: 9552.5264 - reconstruction_loss: 9421.4580 - kl_divergence_loss: 131.1349 - val_loss: 9536.1367 - val_reconstruction_loss: 9397.7334 - val_kl_divergence_loss: 136.8518\n",
            "Epoch 24/50\n",
            "56/57 [============================>.] - ETA: 0s - loss: 9557.8525 - reconstruction_loss: 9426.6797 - kl_divergence_loss: 131.1755\n",
            "Epoch 24: val_loss did not improve from 9533.78320\n",
            "\n",
            "Epoch 24: saving model to /content/weights/VAE/vae_last_model.h5\n",
            "57/57 [==============================] - 28s 491ms/step - loss: 9553.4971 - reconstruction_loss: 9422.4365 - kl_divergence_loss: 131.1504 - val_loss: 9541.9365 - val_reconstruction_loss: 9405.9834 - val_kl_divergence_loss: 134.3714\n",
            "Epoch 25/50\n",
            "56/57 [============================>.] - ETA: 0s - loss: 9557.3770 - reconstruction_loss: 9426.6328 - kl_divergence_loss: 130.7444\n",
            "Epoch 25: val_loss did not improve from 9533.78320\n",
            "\n",
            "Epoch 25: saving model to /content/weights/VAE/vae_last_model.h5\n",
            "57/57 [==============================] - 28s 490ms/step - loss: 9553.0459 - reconstruction_loss: 9422.4355 - kl_divergence_loss: 130.7148 - val_loss: 9534.7412 - val_reconstruction_loss: 9400.7822 - val_kl_divergence_loss: 132.3658\n",
            "Epoch 26/50\n",
            "56/57 [============================>.] - ETA: 0s - loss: 9555.7031 - reconstruction_loss: 9424.9434 - kl_divergence_loss: 130.7623\n",
            "Epoch 26: val_loss did not improve from 9533.78320\n",
            "\n",
            "Epoch 26: saving model to /content/weights/VAE/vae_last_model.h5\n",
            "57/57 [==============================] - 29s 509ms/step - loss: 9551.2490 - reconstruction_loss: 9420.5635 - kl_divergence_loss: 130.7458 - val_loss: 9540.1777 - val_reconstruction_loss: 9410.0869 - val_kl_divergence_loss: 128.5167\n",
            "Epoch 27/50\n",
            "56/57 [============================>.] - ETA: 0s - loss: 9554.0439 - reconstruction_loss: 9423.5713 - kl_divergence_loss: 130.4715\n",
            "Epoch 27: val_loss improved from 9533.78320 to 9531.08203, saving model to /content/weights/VAE/vae_best_model.h5\n",
            "\n",
            "Epoch 27: saving model to /content/weights/VAE/vae_last_model.h5\n",
            "57/57 [==============================] - 34s 595ms/step - loss: 9549.7168 - reconstruction_loss: 9419.3379 - kl_divergence_loss: 130.4509 - val_loss: 9531.0820 - val_reconstruction_loss: 9398.7139 - val_kl_divergence_loss: 130.7547\n",
            "Epoch 28/50\n",
            "57/57 [==============================] - ETA: 0s - loss: 9548.5625 - reconstruction_loss: 9418.4756 - kl_divergence_loss: 130.1776\n",
            "Epoch 28: val_loss did not improve from 9531.08203\n",
            "\n",
            "Epoch 28: saving model to /content/weights/VAE/vae_last_model.h5\n",
            "57/57 [==============================] - 33s 574ms/step - loss: 9548.5625 - reconstruction_loss: 9418.4756 - kl_divergence_loss: 130.1776 - val_loss: 9538.0400 - val_reconstruction_loss: 9408.1162 - val_kl_divergence_loss: 128.2990\n",
            "Epoch 29/50\n",
            "56/57 [============================>.] - ETA: 0s - loss: 9552.7061 - reconstruction_loss: 9422.8184 - kl_divergence_loss: 129.8898\n",
            "Epoch 29: val_loss did not improve from 9531.08203\n",
            "\n",
            "Epoch 29: saving model to /content/weights/VAE/vae_last_model.h5\n",
            "57/57 [==============================] - 28s 496ms/step - loss: 9548.2705 - reconstruction_loss: 9418.4521 - kl_divergence_loss: 129.8744 - val_loss: 9533.7539 - val_reconstruction_loss: 9401.0508 - val_kl_divergence_loss: 131.0767\n",
            "Epoch 30/50\n",
            "57/57 [==============================] - ETA: 0s - loss: 9548.5498 - reconstruction_loss: 9418.6582 - kl_divergence_loss: 129.8938\n",
            "Epoch 30: val_loss did not improve from 9531.08203\n",
            "\n",
            "Epoch 30: saving model to /content/weights/VAE/vae_last_model.h5\n",
            "57/57 [==============================] - 70s 1s/step - loss: 9548.5498 - reconstruction_loss: 9418.6582 - kl_divergence_loss: 129.8938 - val_loss: 9533.4268 - val_reconstruction_loss: 9400.8662 - val_kl_divergence_loss: 130.9201\n",
            "Epoch 31/50\n",
            "56/57 [============================>.] - ETA: 0s - loss: 9551.4268 - reconstruction_loss: 9421.5654 - kl_divergence_loss: 129.8619\n",
            "Epoch 31: val_loss did not improve from 9531.08203\n",
            "\n",
            "Epoch 31: saving model to /content/weights/VAE/vae_last_model.h5\n",
            "57/57 [==============================] - 33s 579ms/step - loss: 9547.0635 - reconstruction_loss: 9417.2656 - kl_divergence_loss: 129.8483 - val_loss: 9532.3711 - val_reconstruction_loss: 9398.7969 - val_kl_divergence_loss: 131.9786\n",
            "Epoch 32/50\n",
            "56/57 [============================>.] - ETA: 0s - loss: 9550.5020 - reconstruction_loss: 9421.0537 - kl_divergence_loss: 129.4488\n",
            "Epoch 32: val_loss did not improve from 9531.08203\n",
            "\n",
            "Epoch 32: saving model to /content/weights/VAE/vae_last_model.h5\n",
            "57/57 [==============================] - 27s 480ms/step - loss: 9546.1172 - reconstruction_loss: 9416.7832 - kl_divergence_loss: 129.4234 - val_loss: 9531.2451 - val_reconstruction_loss: 9401.6133 - val_kl_divergence_loss: 128.0806\n",
            "Epoch 33/50\n",
            "56/57 [============================>.] - ETA: 0s - loss: 9549.5547 - reconstruction_loss: 9420.0674 - kl_divergence_loss: 129.4899\n",
            "Epoch 33: val_loss improved from 9531.08203 to 9530.34570, saving model to /content/weights/VAE/vae_best_model.h5\n",
            "\n",
            "Epoch 33: saving model to /content/weights/VAE/vae_last_model.h5\n",
            "57/57 [==============================] - 28s 487ms/step - loss: 9545.2295 - reconstruction_loss: 9415.8359 - kl_divergence_loss: 129.4691 - val_loss: 9530.3457 - val_reconstruction_loss: 9396.5928 - val_kl_divergence_loss: 132.1688\n",
            "Epoch 34/50\n",
            "56/57 [============================>.] - ETA: 0s - loss: 9547.9678 - reconstruction_loss: 9418.7842 - kl_divergence_loss: 129.1818\n",
            "Epoch 34: val_loss did not improve from 9530.34570\n",
            "\n",
            "Epoch 34: saving model to /content/weights/VAE/vae_last_model.h5\n",
            "57/57 [==============================] - 28s 499ms/step - loss: 9543.4912 - reconstruction_loss: 9414.3965 - kl_divergence_loss: 129.1621 - val_loss: 9534.4932 - val_reconstruction_loss: 9404.2959 - val_kl_divergence_loss: 128.5708\n",
            "Epoch 35/50\n",
            "56/57 [============================>.] - ETA: 0s - loss: 9548.2969 - reconstruction_loss: 9419.2139 - kl_divergence_loss: 129.0837\n",
            "Epoch 35: val_loss improved from 9530.34570 to 9528.12598, saving model to /content/weights/VAE/vae_best_model.h5\n",
            "\n",
            "Epoch 35: saving model to /content/weights/VAE/vae_last_model.h5\n",
            "57/57 [==============================] - 33s 576ms/step - loss: 9543.9072 - reconstruction_loss: 9414.8662 - kl_divergence_loss: 129.0746 - val_loss: 9528.1260 - val_reconstruction_loss: 9395.2041 - val_kl_divergence_loss: 131.3108\n",
            "Epoch 36/50\n",
            "56/57 [============================>.] - ETA: 0s - loss: 9547.9473 - reconstruction_loss: 9418.9795 - kl_divergence_loss: 128.9663\n",
            "Epoch 36: val_loss did not improve from 9528.12598\n",
            "\n",
            "Epoch 36: saving model to /content/weights/VAE/vae_last_model.h5\n",
            "57/57 [==============================] - 28s 487ms/step - loss: 9543.4912 - reconstruction_loss: 9414.6064 - kl_divergence_loss: 128.9478 - val_loss: 9528.5127 - val_reconstruction_loss: 9392.9668 - val_kl_divergence_loss: 133.8807\n",
            "Epoch 37/50\n",
            "56/57 [============================>.] - ETA: 0s - loss: 9547.5801 - reconstruction_loss: 9418.7607 - kl_divergence_loss: 128.8199\n",
            "Epoch 37: val_loss did not improve from 9528.12598\n",
            "\n",
            "Epoch 37: saving model to /content/weights/VAE/vae_last_model.h5\n",
            "57/57 [==============================] - 29s 501ms/step - loss: 9543.2646 - reconstruction_loss: 9414.4805 - kl_divergence_loss: 128.8121 - val_loss: 9539.4131 - val_reconstruction_loss: 9404.0107 - val_kl_divergence_loss: 133.8099\n",
            "Epoch 38/50\n",
            "56/57 [============================>.] - ETA: 0s - loss: 9547.8809 - reconstruction_loss: 9419.1729 - kl_divergence_loss: 128.7091\n",
            "Epoch 38: val_loss did not improve from 9528.12598\n",
            "\n",
            "Epoch 38: saving model to /content/weights/VAE/vae_last_model.h5\n",
            "57/57 [==============================] - 29s 502ms/step - loss: 9543.4268 - reconstruction_loss: 9414.8232 - kl_divergence_loss: 128.6860 - val_loss: 9530.9434 - val_reconstruction_loss: 9401.5342 - val_kl_divergence_loss: 127.9031\n",
            "Epoch 39/50\n",
            "56/57 [============================>.] - ETA: 0s - loss: 9545.0957 - reconstruction_loss: 9416.6396 - kl_divergence_loss: 128.4570\n",
            "Epoch 39: val_loss improved from 9528.12598 to 9526.86816, saving model to /content/weights/VAE/vae_best_model.h5\n",
            "\n",
            "Epoch 39: saving model to /content/weights/VAE/vae_last_model.h5\n",
            "57/57 [==============================] - 28s 488ms/step - loss: 9540.6182 - reconstruction_loss: 9412.2324 - kl_divergence_loss: 128.4415 - val_loss: 9526.8682 - val_reconstruction_loss: 9393.8477 - val_kl_divergence_loss: 131.3742\n",
            "Epoch 40/50\n",
            "56/57 [============================>.] - ETA: 0s - loss: 9544.3574 - reconstruction_loss: 9415.7568 - kl_divergence_loss: 128.5982\n",
            "Epoch 40: val_loss did not improve from 9526.86816\n",
            "\n",
            "Epoch 40: saving model to /content/weights/VAE/vae_last_model.h5\n",
            "57/57 [==============================] - 33s 586ms/step - loss: 9540.0068 - reconstruction_loss: 9411.5156 - kl_divergence_loss: 128.5740 - val_loss: 9527.2900 - val_reconstruction_loss: 9396.9756 - val_kl_divergence_loss: 128.7224\n",
            "Epoch 41/50\n",
            "57/57 [==============================] - ETA: 0s - loss: 9538.9268 - reconstruction_loss: 9410.6582 - kl_divergence_loss: 128.3123\n",
            "Epoch 41: val_loss did not improve from 9526.86816\n",
            "\n",
            "Epoch 41: saving model to /content/weights/VAE/vae_last_model.h5\n",
            "57/57 [==============================] - 27s 482ms/step - loss: 9538.9268 - reconstruction_loss: 9410.6582 - kl_divergence_loss: 128.3123 - val_loss: 9531.5869 - val_reconstruction_loss: 9399.5693 - val_kl_divergence_loss: 130.4429\n",
            "Epoch 42/50\n",
            "56/57 [============================>.] - ETA: 0s - loss: 9546.4512 - reconstruction_loss: 9418.2979 - kl_divergence_loss: 128.1517\n",
            "Epoch 42: val_loss did not improve from 9526.86816\n",
            "\n",
            "Epoch 42: saving model to /content/weights/VAE/vae_last_model.h5\n",
            "57/57 [==============================] - 32s 569ms/step - loss: 9541.9902 - reconstruction_loss: 9413.9258 - kl_divergence_loss: 128.1322 - val_loss: 9528.0801 - val_reconstruction_loss: 9396.0508 - val_kl_divergence_loss: 130.5234\n",
            "Epoch 43/50\n",
            "56/57 [============================>.] - ETA: 0s - loss: 9543.2061 - reconstruction_loss: 9415.0557 - kl_divergence_loss: 128.1488\n",
            "Epoch 43: val_loss did not improve from 9526.86816\n",
            "\n",
            "Epoch 43: saving model to /content/weights/VAE/vae_last_model.h5\n",
            "57/57 [==============================] - 27s 473ms/step - loss: 9538.7461 - reconstruction_loss: 9410.7080 - kl_divergence_loss: 128.1235 - val_loss: 9527.1494 - val_reconstruction_loss: 9396.7490 - val_kl_divergence_loss: 128.8806\n",
            "Epoch 44/50\n",
            "56/57 [============================>.] - ETA: 0s - loss: 9545.5479 - reconstruction_loss: 9417.5283 - kl_divergence_loss: 128.0205\n",
            "Epoch 44: val_loss did not improve from 9526.86816\n",
            "\n",
            "Epoch 44: saving model to /content/weights/VAE/vae_last_model.h5\n",
            "57/57 [==============================] - 27s 478ms/step - loss: 9541.0459 - reconstruction_loss: 9413.1602 - kl_divergence_loss: 127.9907 - val_loss: 9529.9746 - val_reconstruction_loss: 9400.9375 - val_kl_divergence_loss: 127.4277\n",
            "Epoch 45/50\n",
            "56/57 [============================>.] - ETA: 0s - loss: 9544.0518 - reconstruction_loss: 9416.2744 - kl_divergence_loss: 127.7771\n",
            "Epoch 45: val_loss improved from 9526.86816 to 9526.83984, saving model to /content/weights/VAE/vae_best_model.h5\n",
            "\n",
            "Epoch 45: saving model to /content/weights/VAE/vae_last_model.h5\n",
            "57/57 [==============================] - 27s 480ms/step - loss: 9539.6191 - reconstruction_loss: 9411.9307 - kl_divergence_loss: 127.7575 - val_loss: 9526.8398 - val_reconstruction_loss: 9396.9746 - val_kl_divergence_loss: 128.2254\n",
            "Epoch 46/50\n",
            "56/57 [============================>.] - ETA: 0s - loss: 9545.2568 - reconstruction_loss: 9417.5654 - kl_divergence_loss: 127.6889\n",
            "Epoch 46: val_loss improved from 9526.83984 to 9526.63574, saving model to /content/weights/VAE/vae_best_model.h5\n",
            "\n",
            "Epoch 46: saving model to /content/weights/VAE/vae_last_model.h5\n",
            "57/57 [==============================] - 27s 477ms/step - loss: 9540.8379 - reconstruction_loss: 9413.2021 - kl_divergence_loss: 127.6767 - val_loss: 9526.6357 - val_reconstruction_loss: 9398.1631 - val_kl_divergence_loss: 126.8419\n",
            "Epoch 47/50\n",
            "57/57 [==============================] - ETA: 0s - loss: 9540.4004 - reconstruction_loss: 9412.7891 - kl_divergence_loss: 127.6648\n",
            "Epoch 47: val_loss did not improve from 9526.63574\n",
            "\n",
            "Epoch 47: saving model to /content/weights/VAE/vae_last_model.h5\n",
            "57/57 [==============================] - 33s 573ms/step - loss: 9540.4004 - reconstruction_loss: 9412.7891 - kl_divergence_loss: 127.6648 - val_loss: 9553.0400 - val_reconstruction_loss: 9419.0928 - val_kl_divergence_loss: 132.3098\n",
            "Epoch 48/50\n",
            "56/57 [============================>.] - ETA: 0s - loss: 9543.8828 - reconstruction_loss: 9416.4844 - kl_divergence_loss: 127.3974\n",
            "Epoch 48: val_loss did not improve from 9526.63574\n",
            "\n",
            "Epoch 48: saving model to /content/weights/VAE/vae_last_model.h5\n",
            "57/57 [==============================] - 33s 582ms/step - loss: 9539.4609 - reconstruction_loss: 9412.1582 - kl_divergence_loss: 127.3761 - val_loss: 9535.2461 - val_reconstruction_loss: 9401.8018 - val_kl_divergence_loss: 131.9261\n",
            "Epoch 49/50\n",
            "56/57 [============================>.] - ETA: 0s - loss: 9541.4229 - reconstruction_loss: 9414.0078 - kl_divergence_loss: 127.4174\n",
            "Epoch 49: val_loss did not improve from 9526.63574\n",
            "\n",
            "Epoch 49: saving model to /content/weights/VAE/vae_last_model.h5\n",
            "57/57 [==============================] - 32s 568ms/step - loss: 9536.9219 - reconstruction_loss: 9409.6094 - kl_divergence_loss: 127.3948 - val_loss: 9536.2725 - val_reconstruction_loss: 9402.1670 - val_kl_divergence_loss: 132.4906\n",
            "Epoch 50/50\n",
            "56/57 [============================>.] - ETA: 0s - loss: 9541.3125 - reconstruction_loss: 9413.9629 - kl_divergence_loss: 127.3513\n",
            "Epoch 50: val_loss did not improve from 9526.63574\n",
            "\n",
            "Epoch 50: saving model to /content/weights/VAE/vae_last_model.h5\n",
            "57/57 [==============================] - 32s 557ms/step - loss: 9536.8281 - reconstruction_loss: 9409.6328 - kl_divergence_loss: 127.3171 - val_loss: 9527.2871 - val_reconstruction_loss: 9397.8662 - val_kl_divergence_loss: 127.7748\n"
          ]
        },
        {
          "output_type": "execute_result",
          "data": {
            "text/plain": [
              "<keras.src.callbacks.History at 0x7e485e4408b0>"
            ]
          },
          "metadata": {},
          "execution_count": 42
        }
      ]
    },
    {
      "cell_type": "markdown",
      "source": [
        "# **DECODING**"
      ],
      "metadata": {
        "id": "dRqGC3Cv28OX"
      }
    },
    {
      "cell_type": "code",
      "source": [
        "var_autoencoder.load_weights(os.path.join(WEIGHTS_FOLDER, 'VAE/vae_best_model.h5'))"
      ],
      "metadata": {
        "id": "MWyFoZjc2Rf_"
      },
      "execution_count": null,
      "outputs": []
    },
    {
      "cell_type": "code",
      "source": [
        "def vae_generate_images(new_to_show=1, av_array = average_array):\n",
        "\n",
        "    # Generate new faces using the variational autoencoder decoder\n",
        "    ave_exp = np.expand_dims(av_array, 0)\n",
        "    #print(ave_exp)\n",
        "    new_faces = var_decoder.predict(ave_exp)\n",
        "    #print(new_faces)\n",
        "\n",
        "    # Create a figure for displaying the generated images\n",
        "    fig = plt.figure(figsize=(30, 15))\n",
        "\n",
        "    # Loop through the generated images\n",
        "    for i in range(new_to_show):\n",
        "        # Add a subplot for each image\n",
        "        ax = fig.add_subplot(6, 10, i+1)\n",
        "\n",
        "        # Display the image\n",
        "        ax.imshow(new_faces[i])\n",
        "\n",
        "        # Turn off axis labels\n",
        "        ax.axis('off')\n",
        "\n",
        "    # Show the plot\n",
        "    plt.show()\n"
      ],
      "metadata": {
        "id": "j254jkuw4z7Z"
      },
      "execution_count": null,
      "outputs": []
    },
    {
      "cell_type": "code",
      "source": [
        " for i in range(6):\n",
        "  vae_generate_images(1,cluster_avarage_arrays['c'+str(i)])\n",
        "  print('c'+str(i))"
      ],
      "metadata": {
        "id": "OEKUIayiGFEp",
        "colab": {
          "base_uri": "https://localhost:8080/",
          "height": 1000
        },
        "outputId": "4b1db95c-e986-40ad-b564-7a53c9cb27d8"
      },
      "execution_count": null,
      "outputs": [
        {
          "output_type": "stream",
          "name": "stdout",
          "text": [
            "1/1 [==============================] - 0s 18ms/step\n"
          ]
        },
        {
          "output_type": "display_data",
          "data": {
            "text/plain": [
              "<Figure size 3000x1500 with 1 Axes>"
            ],
            "image/png": "[encoded data removed]"
          },
          "metadata": {}
        },
        {
          "output_type": "stream",
          "name": "stdout",
          "text": [
            "c0\n",
            "1/1 [==============================] - 0s 24ms/step\n"
          ]
        },
        {
          "output_type": "display_data",
          "data": {
            "text/plain": [
              "<Figure size 3000x1500 with 1 Axes>"
            ],
            "image/png": "[encoded data removed]"
          },
          "metadata": {}
        },
        {
          "output_type": "stream",
          "name": "stdout",
          "text": [
            "c1\n",
            "1/1 [==============================] - 0s 27ms/step\n"
          ]
        },
        {
          "output_type": "display_data",
          "data": {
            "text/plain": [
              "<Figure size 3000x1500 with 1 Axes>"
            ],
            "image/png": "[encoded data removed]"
          },
          "metadata": {}
        },
        {
          "output_type": "stream",
          "name": "stdout",
          "text": [
            "c2\n",
            "1/1 [==============================] - 0s 23ms/step\n"
          ]
        },
        {
          "output_type": "display_data",
          "data": {
            "text/plain": [
              "<Figure size 3000x1500 with 1 Axes>"
            ],
            "image/png": "[encoded data removed]"
          },
          "metadata": {}
        },
        {
          "output_type": "stream",
          "name": "stdout",
          "text": [
            "c3\n",
            "1/1 [==============================] - 0s 25ms/step\n"
          ]
        },
        {
          "output_type": "display_data",
          "data": {
            "text/plain": [
              "<Figure size 3000x1500 with 1 Axes>"
            ],
            "image/png": "[encoded data removed]"
          },
          "metadata": {}
        },
        {
          "output_type": "stream",
          "name": "stdout",
          "text": [
            "c4\n",
            "1/1 [==============================] - 0s 17ms/step\n"
          ]
        },
        {
          "output_type": "display_data",
          "data": {
            "text/plain": [
              "<Figure size 3000x1500 with 1 Axes>"
            ],
            "image/png": "[encoded data removed]"
          },
          "metadata": {}
        },
        {
          "output_type": "stream",
          "name": "stdout",
          "text": [
            "c5\n"
          ]
        }
      ]
    },
    {
      "cell_type": "code",
      "source": [
        "vae_generate_images(1, average_array)"
      ],
      "metadata": {
        "colab": {
          "base_uri": "https://localhost:8080/",
          "height": 219
        },
        "id": "DhSdGFqU428A",
        "outputId": "7fdad454-d3db-4f8d-e9a0-171ead44e235"
      },
      "execution_count": null,
      "outputs": [
        {
          "output_type": "stream",
          "name": "stdout",
          "text": [
            "1/1 [==============================] - 0s 19ms/step\n"
          ]
        },
        {
          "output_type": "display_data",
          "data": {
            "text/plain": [
              "<Figure size 3000x1500 with 1 Axes>"
            ],
            "image/png": "[encoded data removed]"
          },
          "metadata": {}
        }
      ]
    }
  ]
}